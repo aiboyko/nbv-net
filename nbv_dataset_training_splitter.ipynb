{
 "cells": [
  {
   "cell_type": "markdown",
   "metadata": {},
   "source": [
    "# Dataset training and validation splitter\n",
    "\n",
    "This notebook splits the dataset among training and validation sets.\n",
    "\n",
    "J. Irving Vasquez-Gomez\n",
    "\n",
    "jivg.org"
   ]
  },
  {
   "cell_type": "code",
   "execution_count": 1,
   "metadata": {},
   "outputs": [],
   "source": [
    "import numpy as np\n",
    "import os"
   ]
  },
  {
   "cell_type": "code",
   "execution_count": 2,
   "metadata": {},
   "outputs": [],
   "source": [
    "mydir = '../dataset/classification/'\n",
    "file_vol = 'dataset_vol_classification.npy'\n",
    "file_lbl = 'dataset_lbl_classification.npy'\n",
    "\n",
    "path_input_vol = os.path.join(mydir, file_vol)\n",
    "path_input_lbl = os.path.join(mydir, file_lbl)"
   ]
  },
  {
   "cell_type": "code",
   "execution_count": 4,
   "metadata": {},
   "outputs": [
    {
     "name": "stdout",
     "output_type": "stream",
     "text": [
      "Labels data size: \n",
      " (13455, 1)\n"
     ]
    }
   ],
   "source": [
    "dataset_vol = np.load(path_input_vol)\n",
    "dataset_lbl = np.load(path_input_lbl)\n",
    "\n",
    "print(\"Volumes data size: \\n\",dataset_vol.shape)\n",
    "print(\"Labels data size: \\n\",dataset_lbl.shape)"
   ]
  },
  {
   "cell_type": "code",
   "execution_count": 5,
   "metadata": {},
   "outputs": [],
   "source": [
    "print(dataset_vol[1,:])"
   ]
  },
  {
   "cell_type": "code",
   "execution_count": 6,
   "metadata": {},
   "outputs": [
    {
     "name": "stdout",
     "output_type": "stream",
     "text": [
      "[[9]\n",
      " [4]\n",
      " [3]\n",
      " ..., \n",
      " [6]\n",
      " [9]\n",
      " [4]]\n",
      "[ 0  1  2  3  4  5  6  7  8  9 10 11 12 13]\n"
     ]
    }
   ],
   "source": [
    "print(dataset_lbl)\n",
    "\n",
    "print(np.unique(dataset_lbl))"
   ]
  },
  {
   "cell_type": "code",
   "execution_count": 20,
   "metadata": {},
   "outputs": [
    {
     "name": "stdout",
     "output_type": "stream",
     "text": [
      "13455\n",
      "[7891 1540  370 ..., 1935 9723 5237]\n",
      "10764\n",
      "2691\n"
     ]
    }
   ],
   "source": [
    "# shuffle the dataset\n",
    "n_examples = len(dataset_lbl)\n",
    "print(n_examples)\n",
    "shuffle = np.random.permutation(n_examples)\n",
    "#print(shuffle)\n",
    "\n",
    "train_percent = 0.8\n",
    "vaidation_percent = 0.2\n",
    "\n",
    "ds_lbl_train = dataset_lbl[shuffle[:int(n_examples * train_percent)],:]\n",
    "ds_lbl_validation = dataset_lbl[shuffle[int(n_examples * train_percent):],:]\n",
    "\n",
    "ds_vol_train = dataset_vol[shuffle[:int(n_examples * train_percent)],:]\n",
    "ds_vol_validation = dataset_vol[shuffle[int(n_examples * train_percent):],:]\n"
   ]
  },
  {
   "cell_type": "code",
   "execution_count": 24,
   "metadata": {},
   "outputs": [
    {
     "name": "stdout",
     "output_type": "stream",
     "text": [
      "10764\n",
      "2691\n",
      "[[ 6]\n",
      " [ 7]\n",
      " [11]\n",
      " ..., \n",
      " [ 5]\n",
      " [ 1]\n",
      " [ 5]]\n",
      "[[ 6]\n",
      " [ 7]\n",
      " [11]\n",
      " ..., \n",
      " [ 6]\n",
      " [ 8]\n",
      " [ 3]]\n",
      "[[ 7]\n",
      " [ 5]\n",
      " [10]\n",
      " ..., \n",
      " [ 5]\n",
      " [ 1]\n",
      " [ 5]]\n"
     ]
    }
   ],
   "source": [
    "print(len(ds_lbl_train))\n",
    "print(len(ds_lbl_validation))\n",
    "\n",
    "print(dataset_lbl[shuffle,:])\n",
    "print(ds_lbl_train)\n",
    "print(ds_lbl_validation)"
   ]
  },
  {
   "cell_type": "code",
   "execution_count": 26,
   "metadata": {},
   "outputs": [],
   "source": [
    "#save the datasets\n",
    "\n",
    "file_training_vol = os.path.join(mydir, 'training/dataset_vol_classification_training.npy')\n",
    "file_validation_vol = os.path.join(mydir, 'validation/dataset_vol_classification_validation.npy')\n",
    "\n",
    "file_training_lbl = os.path.join(mydir, 'training/dataset_lbl_classification_training.npy')\n",
    "file_validation_lbl = os.path.join(mydir, 'validation/dataset_lbl_classification_validation.npy')\n",
    "\n",
    "np.save(file_training_vol, ds_vol_train)\n",
    "np.save(file_validation_vol, ds_vol_validation)\n",
    "\n",
    "np.save(file_training_lbl, ds_lbl_train)\n",
    "np.save(file_validation_lbl, ds_lbl_validation)"
   ]
  },
  {
   "cell_type": "code",
   "execution_count": null,
   "metadata": {},
   "outputs": [],
   "source": []
  }
 ],
 "metadata": {
  "kernelspec": {
   "display_name": "Python 3",
   "language": "python",
   "name": "python3"
  },
  "language_info": {
   "codemirror_mode": {
    "name": "ipython",
    "version": 3
   },
   "file_extension": ".py",
   "mimetype": "text/x-python",
   "name": "python",
   "nbconvert_exporter": "python",
   "pygments_lexer": "ipython3",
   "version": "3.6.7"
  }
 },
 "nbformat": 4,
 "nbformat_minor": 2
}
