{
 "cells": [
  {
   "cell_type": "markdown",
   "metadata": {},
   "source": [
    "# Dataset training and validation splitter\n",
    "\n",
    "This notebook splits the dataset among training and validation sets.\n",
    "\n",
    "J. Irving Vasquez-Gomez\n",
    "\n",
    "jivg.org"
   ]
  },
  {
   "cell_type": "code",
   "execution_count": 1,
   "metadata": {},
   "outputs": [],
   "source": []
  },
  {
   "cell_type": "code",
   "execution_count": 2,
   "metadata": {},
   "outputs": [],
   "source": [
    "import cnbv"
   ]
  },
  {
   "cell_type": "code",
   "execution_count": 3,
   "metadata": {},
   "outputs": [],
   "source": [
    "device = 'cuda:0'\n",
    "mydir = 'dataset'\n",
    "dataset = cnbv.Dataset_NBV_Classification(dataset_dir=mydir, device=device)\n",
    "train_dataset, test_dataset = dataset.generate_train_test()\n",
    "train_dataloader = data.DataLoader(dataset=train_dataset, shuffle=True, batch_size=16)\n",
    "test_dataloader = data.DataLoader(dataset=test_dataset, shuffle=True, batch_size=16)"
   ]
  },
  {
   "cell_type": "code",
   "execution_count": null,
   "metadata": {},
   "outputs": [],
   "source": []
  }
 ],
 "metadata": {
  "kernelspec": {
   "display_name": "Python 3",
   "language": "python",
   "name": "python3"
  },
  "language_info": {
   "codemirror_mode": {
    "name": "ipython",
    "version": 3
   },
   "file_extension": ".py",
   "mimetype": "text/x-python",
   "name": "python",
   "nbconvert_exporter": "python",
   "pygments_lexer": "ipython3",
   "version": "3.7.6"
  }
 },
 "nbformat": 4,
 "nbformat_minor": 4
}
