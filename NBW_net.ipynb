{
  "nbformat": 4,
  "nbformat_minor": 0,
  "metadata": {
    "colab": {
      "name": "NBW_net.ipynb",
      "provenance": [],
      "collapsed_sections": [],
      "include_colab_link": true
    },
    "kernelspec": {
      "name": "python3",
      "display_name": "Python 3"
    },
    "accelerator": "GPU"
  },
  "cells": [
    {
      "cell_type": "markdown",
      "metadata": {
        "id": "view-in-github",
        "colab_type": "text"
      },
      "source": [
        "<a href=\"https://colab.research.google.com/github/aiboyko/nbv-net/blob/master/NBW_net.ipynb\" target=\"_parent\"><img src=\"https://colab.research.google.com/assets/colab-badge.svg\" alt=\"Open In Colab\"/></a>"
      ]
    },
    {
      "cell_type": "markdown",
      "metadata": {
        "id": "WgSv_Ow7Po3L",
        "colab_type": "text"
      },
      "source": [
        "# NBV-Net \n",
        "This is a colab version of the modified code for Next Best View network proposed by Mendoza et al. \n",
        "\n",
        "[Original Paper](https://arxiv.org/pdf/1905.05833.pdf)\n",
        "\n",
        "[Full Code](https://github.com/aiboyko/nbv-net)"
      ]
    },
    {
      "cell_type": "markdown",
      "metadata": {
        "id": "O8iCsWgIEDGO",
        "colab_type": "text"
      },
      "source": [
        "## Download dataset"
      ]
    },
    {
      "cell_type": "code",
      "metadata": {
        "id": "YgcRIJAS18g3",
        "colab_type": "code",
        "outputId": "1976c656-f51e-49b0-c9c3-6c8c1a798010",
        "colab": {
          "base_uri": "https://localhost:8080/",
          "height": 445
        }
      },
      "source": [
        "!wget --load-cookies /tmp/cookies.txt \"https://docs.google.com/uc?export=download&confirm=$(wget --quiet --save-cookies /tmp/cookies.txt --keep-session-cookies --no-check-certificate 'https://docs.google.com/uc?export=download&id=1p9006B3EAX8IpkGhQJjrKMWQoQBZPcv_' -O- | sed -rn 's/.*confirm=([0-9A-Za-z_]+).*/\\1\\n/p')&id=1p9006B3EAX8IpkGhQJjrKMWQoQBZPcv_\" -O lbl_train.npy && rm -rf /tmp/cookies.txt"
      ],
      "execution_count": 14,
      "outputs": [
        {
          "output_type": "stream",
          "text": [
            "--2020-06-05 20:17:09--  https://docs.google.com/uc?export=download&confirm=&id=1p9006B3EAX8IpkGhQJjrKMWQoQBZPcv_\n",
            "Resolving docs.google.com (docs.google.com)... 74.125.195.101, 74.125.195.100, 74.125.195.139, ...\n",
            "Connecting to docs.google.com (docs.google.com)|74.125.195.101|:443... connected.\n",
            "HTTP request sent, awaiting response... 302 Moved Temporarily\n",
            "Location: https://doc-14-98-docs.googleusercontent.com/docs/securesc/sjb30fk58e89us1h6gllebq1v6ajruat/inob486c644ullni3l4sq1uck6malurl/1591388175000/03778571169290499187/13926120035975496413Z/1p9006B3EAX8IpkGhQJjrKMWQoQBZPcv_?e=download [following]\n",
            "--2020-06-05 20:17:09--  https://doc-14-98-docs.googleusercontent.com/docs/securesc/sjb30fk58e89us1h6gllebq1v6ajruat/inob486c644ullni3l4sq1uck6malurl/1591388175000/03778571169290499187/13926120035975496413Z/1p9006B3EAX8IpkGhQJjrKMWQoQBZPcv_?e=download\n",
            "Resolving doc-14-98-docs.googleusercontent.com (doc-14-98-docs.googleusercontent.com)... 74.125.142.132, 2607:f8b0:400e:c08::84\n",
            "Connecting to doc-14-98-docs.googleusercontent.com (doc-14-98-docs.googleusercontent.com)|74.125.142.132|:443... connected.\n",
            "HTTP request sent, awaiting response... 302 Found\n",
            "Location: https://docs.google.com/nonceSigner?nonce=sk8ggha7ut4qo&continue=https://doc-14-98-docs.googleusercontent.com/docs/securesc/sjb30fk58e89us1h6gllebq1v6ajruat/inob486c644ullni3l4sq1uck6malurl/1591388175000/03778571169290499187/13926120035975496413Z/1p9006B3EAX8IpkGhQJjrKMWQoQBZPcv_?e%3Ddownload&hash=aj35is75emm77cgnfeijhvnnuuegh90c [following]\n",
            "--2020-06-05 20:17:09--  https://docs.google.com/nonceSigner?nonce=sk8ggha7ut4qo&continue=https://doc-14-98-docs.googleusercontent.com/docs/securesc/sjb30fk58e89us1h6gllebq1v6ajruat/inob486c644ullni3l4sq1uck6malurl/1591388175000/03778571169290499187/13926120035975496413Z/1p9006B3EAX8IpkGhQJjrKMWQoQBZPcv_?e%3Ddownload&hash=aj35is75emm77cgnfeijhvnnuuegh90c\n",
            "Connecting to docs.google.com (docs.google.com)|74.125.195.101|:443... connected.\n",
            "HTTP request sent, awaiting response... 302 Found\n",
            "Location: https://doc-14-98-docs.googleusercontent.com/docs/securesc/sjb30fk58e89us1h6gllebq1v6ajruat/inob486c644ullni3l4sq1uck6malurl/1591388175000/03778571169290499187/13926120035975496413Z/1p9006B3EAX8IpkGhQJjrKMWQoQBZPcv_?e=download&nonce=sk8ggha7ut4qo&user=13926120035975496413Z&hash=2dsn06gkp7hr92cd0fcj16ddmqnrgved [following]\n",
            "--2020-06-05 20:17:09--  https://doc-14-98-docs.googleusercontent.com/docs/securesc/sjb30fk58e89us1h6gllebq1v6ajruat/inob486c644ullni3l4sq1uck6malurl/1591388175000/03778571169290499187/13926120035975496413Z/1p9006B3EAX8IpkGhQJjrKMWQoQBZPcv_?e=download&nonce=sk8ggha7ut4qo&user=13926120035975496413Z&hash=2dsn06gkp7hr92cd0fcj16ddmqnrgved\n",
            "Connecting to doc-14-98-docs.googleusercontent.com (doc-14-98-docs.googleusercontent.com)|74.125.142.132|:443... connected.\n",
            "HTTP request sent, awaiting response... 200 OK\n",
            "Length: 86240 (84K) [application/octet-stream]\n",
            "Saving to: ‘lbl_train.npy’\n",
            "\n",
            "lbl_train.npy       100%[===================>]  84.22K  --.-KB/s    in 0.001s  \n",
            "\n",
            "2020-06-05 20:17:10 (143 MB/s) - ‘lbl_train.npy’ saved [86240/86240]\n",
            "\n"
          ],
          "name": "stdout"
        }
      ]
    },
    {
      "cell_type": "code",
      "metadata": {
        "id": "jcz3vFbfDqNZ",
        "colab_type": "code",
        "colab": {
          "base_uri": "https://localhost:8080/",
          "height": 445
        },
        "outputId": "0ab0056a-8c0a-4743-827f-f30f53558597"
      },
      "source": [
        "!wget --load-cookies /tmp/cookies.txt \"https://docs.google.com/uc?export=download&confirm=$(wget --quiet --save-cookies /tmp/cookies.txt --keep-session-cookies --no-check-certificate 'https://docs.google.com/uc?export=download&id=1NVoc5t9AKDptWLrAs9z7I0Fvfu8wZBqa' -O- | sed -rn 's/.*confirm=([0-9A-Za-z_]+).*/\\1\\n/p')&id=1NVoc5t9AKDptWLrAs9z7I0Fvfu8wZBqa\" -O vol_train.npy && rm -rf /tmp/cookies.txt"
      ],
      "execution_count": 15,
      "outputs": [
        {
          "output_type": "stream",
          "text": [
            "--2020-06-05 20:17:32--  https://docs.google.com/uc?export=download&confirm=htv_&id=1NVoc5t9AKDptWLrAs9z7I0Fvfu8wZBqa\n",
            "Resolving docs.google.com (docs.google.com)... 74.125.142.101, 74.125.142.102, 74.125.142.139, ...\n",
            "Connecting to docs.google.com (docs.google.com)|74.125.142.101|:443... connected.\n",
            "HTTP request sent, awaiting response... 302 Moved Temporarily\n",
            "Location: https://doc-0c-14-docs.googleusercontent.com/docs/securesc/oo6lrf63mvg6i7p69cqm6gjse5jcgihh/agjhukhl2k8i7oece0k68shnpl25q0mj/1591388250000/03778571169290499187/16377956811436850539Z/1NVoc5t9AKDptWLrAs9z7I0Fvfu8wZBqa?e=download [following]\n",
            "--2020-06-05 20:17:32--  https://doc-0c-14-docs.googleusercontent.com/docs/securesc/oo6lrf63mvg6i7p69cqm6gjse5jcgihh/agjhukhl2k8i7oece0k68shnpl25q0mj/1591388250000/03778571169290499187/16377956811436850539Z/1NVoc5t9AKDptWLrAs9z7I0Fvfu8wZBqa?e=download\n",
            "Resolving doc-0c-14-docs.googleusercontent.com (doc-0c-14-docs.googleusercontent.com)... 74.125.142.132, 2607:f8b0:400e:c08::84\n",
            "Connecting to doc-0c-14-docs.googleusercontent.com (doc-0c-14-docs.googleusercontent.com)|74.125.142.132|:443... connected.\n",
            "HTTP request sent, awaiting response... 302 Found\n",
            "Location: https://docs.google.com/nonceSigner?nonce=rqjg5p19m1g5q&continue=https://doc-0c-14-docs.googleusercontent.com/docs/securesc/oo6lrf63mvg6i7p69cqm6gjse5jcgihh/agjhukhl2k8i7oece0k68shnpl25q0mj/1591388250000/03778571169290499187/16377956811436850539Z/1NVoc5t9AKDptWLrAs9z7I0Fvfu8wZBqa?e%3Ddownload&hash=1l1pkme1q5236e0klnv5ndrtlqoc83ji [following]\n",
            "--2020-06-05 20:17:32--  https://docs.google.com/nonceSigner?nonce=rqjg5p19m1g5q&continue=https://doc-0c-14-docs.googleusercontent.com/docs/securesc/oo6lrf63mvg6i7p69cqm6gjse5jcgihh/agjhukhl2k8i7oece0k68shnpl25q0mj/1591388250000/03778571169290499187/16377956811436850539Z/1NVoc5t9AKDptWLrAs9z7I0Fvfu8wZBqa?e%3Ddownload&hash=1l1pkme1q5236e0klnv5ndrtlqoc83ji\n",
            "Connecting to docs.google.com (docs.google.com)|74.125.142.101|:443... connected.\n",
            "HTTP request sent, awaiting response... 302 Found\n",
            "Location: https://doc-0c-14-docs.googleusercontent.com/docs/securesc/oo6lrf63mvg6i7p69cqm6gjse5jcgihh/agjhukhl2k8i7oece0k68shnpl25q0mj/1591388250000/03778571169290499187/16377956811436850539Z/1NVoc5t9AKDptWLrAs9z7I0Fvfu8wZBqa?e=download&nonce=rqjg5p19m1g5q&user=16377956811436850539Z&hash=3dkmka59lnvov9a82d0hbkh4bmhuu4ur [following]\n",
            "--2020-06-05 20:17:32--  https://doc-0c-14-docs.googleusercontent.com/docs/securesc/oo6lrf63mvg6i7p69cqm6gjse5jcgihh/agjhukhl2k8i7oece0k68shnpl25q0mj/1591388250000/03778571169290499187/16377956811436850539Z/1NVoc5t9AKDptWLrAs9z7I0Fvfu8wZBqa?e=download&nonce=rqjg5p19m1g5q&user=16377956811436850539Z&hash=3dkmka59lnvov9a82d0hbkh4bmhuu4ur\n",
            "Connecting to doc-0c-14-docs.googleusercontent.com (doc-0c-14-docs.googleusercontent.com)|74.125.142.132|:443... connected.\n",
            "HTTP request sent, awaiting response... 200 OK\n",
            "Length: unspecified [application/octet-stream]\n",
            "Saving to: ‘vol_train.npy’\n",
            "\n",
            "vol_train.npy           [             <=>    ]   2.63G  31.5MB/s    in 40s     \n",
            "\n",
            "2020-06-05 20:18:13 (66.8 MB/s) - ‘vol_train.npy’ saved [2821718144]\n",
            "\n"
          ],
          "name": "stdout"
        }
      ]
    },
    {
      "cell_type": "code",
      "metadata": {
        "id": "_xvGyb9rDqre",
        "colab_type": "code",
        "colab": {
          "base_uri": "https://localhost:8080/",
          "height": 445
        },
        "outputId": "4f2dbe82-9d15-46ae-f655-a03c3f83a805"
      },
      "source": [
        "!wget --load-cookies /tmp/cookies.txt \"https://docs.google.com/uc?export=download&confirm=$(wget --quiet --save-cookies /tmp/cookies.txt --keep-session-cookies --no-check-certificate 'https://docs.google.com/uc?export=download&id=1oZlwIZaZMjqCaqb29ItCOxaV47LPL4JM' -O- | sed -rn 's/.*confirm=([0-9A-Za-z_]+).*/\\1\\n/p')&id=1oZlwIZaZMjqCaqb29ItCOxaV47LPL4JM\" -O lbl_test.npy && rm -rf /tmp/cookies.txt"
      ],
      "execution_count": 16,
      "outputs": [
        {
          "output_type": "stream",
          "text": [
            "--2020-06-05 20:19:01--  https://docs.google.com/uc?export=download&confirm=&id=1oZlwIZaZMjqCaqb29ItCOxaV47LPL4JM\n",
            "Resolving docs.google.com (docs.google.com)... 74.125.142.101, 74.125.142.102, 74.125.142.139, ...\n",
            "Connecting to docs.google.com (docs.google.com)|74.125.142.101|:443... connected.\n",
            "HTTP request sent, awaiting response... 302 Moved Temporarily\n",
            "Location: https://doc-14-8s-docs.googleusercontent.com/docs/securesc/7q8ef00o33vf12in80ejl31sn7k39odg/sdv3ef0errditou11c5cfkcppihkj3da/1591388325000/03778571169290499187/01456735132179614079Z/1oZlwIZaZMjqCaqb29ItCOxaV47LPL4JM?e=download [following]\n",
            "--2020-06-05 20:19:01--  https://doc-14-8s-docs.googleusercontent.com/docs/securesc/7q8ef00o33vf12in80ejl31sn7k39odg/sdv3ef0errditou11c5cfkcppihkj3da/1591388325000/03778571169290499187/01456735132179614079Z/1oZlwIZaZMjqCaqb29ItCOxaV47LPL4JM?e=download\n",
            "Resolving doc-14-8s-docs.googleusercontent.com (doc-14-8s-docs.googleusercontent.com)... 74.125.142.132, 2607:f8b0:400e:c08::84\n",
            "Connecting to doc-14-8s-docs.googleusercontent.com (doc-14-8s-docs.googleusercontent.com)|74.125.142.132|:443... connected.\n",
            "HTTP request sent, awaiting response... 302 Found\n",
            "Location: https://docs.google.com/nonceSigner?nonce=gf3nunphbhpri&continue=https://doc-14-8s-docs.googleusercontent.com/docs/securesc/7q8ef00o33vf12in80ejl31sn7k39odg/sdv3ef0errditou11c5cfkcppihkj3da/1591388325000/03778571169290499187/01456735132179614079Z/1oZlwIZaZMjqCaqb29ItCOxaV47LPL4JM?e%3Ddownload&hash=a4jrgaua55qjfea579e6vdstlf8h05dd [following]\n",
            "--2020-06-05 20:19:01--  https://docs.google.com/nonceSigner?nonce=gf3nunphbhpri&continue=https://doc-14-8s-docs.googleusercontent.com/docs/securesc/7q8ef00o33vf12in80ejl31sn7k39odg/sdv3ef0errditou11c5cfkcppihkj3da/1591388325000/03778571169290499187/01456735132179614079Z/1oZlwIZaZMjqCaqb29ItCOxaV47LPL4JM?e%3Ddownload&hash=a4jrgaua55qjfea579e6vdstlf8h05dd\n",
            "Connecting to docs.google.com (docs.google.com)|74.125.142.101|:443... connected.\n",
            "HTTP request sent, awaiting response... 302 Found\n",
            "Location: https://doc-14-8s-docs.googleusercontent.com/docs/securesc/7q8ef00o33vf12in80ejl31sn7k39odg/sdv3ef0errditou11c5cfkcppihkj3da/1591388325000/03778571169290499187/01456735132179614079Z/1oZlwIZaZMjqCaqb29ItCOxaV47LPL4JM?e=download&nonce=gf3nunphbhpri&user=01456735132179614079Z&hash=mbhkgmump9rjavkem77k4ifmvae8qsua [following]\n",
            "--2020-06-05 20:19:01--  https://doc-14-8s-docs.googleusercontent.com/docs/securesc/7q8ef00o33vf12in80ejl31sn7k39odg/sdv3ef0errditou11c5cfkcppihkj3da/1591388325000/03778571169290499187/01456735132179614079Z/1oZlwIZaZMjqCaqb29ItCOxaV47LPL4JM?e=download&nonce=gf3nunphbhpri&user=01456735132179614079Z&hash=mbhkgmump9rjavkem77k4ifmvae8qsua\n",
            "Connecting to doc-14-8s-docs.googleusercontent.com (doc-14-8s-docs.googleusercontent.com)|74.125.142.132|:443... connected.\n",
            "HTTP request sent, awaiting response... 200 OK\n",
            "Length: 21656 (21K) [application/octet-stream]\n",
            "Saving to: ‘lbl_test.npy’\n",
            "\n",
            "lbl_test.npy        100%[===================>]  21.15K  --.-KB/s    in 0s      \n",
            "\n",
            "2020-06-05 20:19:02 (84.7 MB/s) - ‘lbl_test.npy’ saved [21656/21656]\n",
            "\n"
          ],
          "name": "stdout"
        }
      ]
    },
    {
      "cell_type": "code",
      "metadata": {
        "id": "PlveQFbaEmKk",
        "colab_type": "code",
        "colab": {
          "base_uri": "https://localhost:8080/",
          "height": 445
        },
        "outputId": "62474d44-0213-4715-a9f7-efc091f8d1b2"
      },
      "source": [
        "!wget --load-cookies /tmp/cookies.txt \"https://docs.google.com/uc?export=download&confirm=$(wget --quiet --save-cookies /tmp/cookies.txt --keep-session-cookies --no-check-certificate 'https://docs.google.com/uc?export=download&id=1mv4MdxnuX0v_tnJ-2lWnK_Cq7Nuu6dlQ' -O- | sed -rn 's/.*confirm=([0-9A-Za-z_]+).*/\\1\\n/p')&id=1mv4MdxnuX0v_tnJ-2lWnK_Cq7Nuu6dlQ\" -O vol_test.npy && rm -rf /tmp/cookies.txt"
      ],
      "execution_count": 17,
      "outputs": [
        {
          "output_type": "stream",
          "text": [
            "--2020-06-05 20:19:21--  https://docs.google.com/uc?export=download&confirm=IxTn&id=1mv4MdxnuX0v_tnJ-2lWnK_Cq7Nuu6dlQ\n",
            "Resolving docs.google.com (docs.google.com)... 74.125.195.138, 74.125.195.101, 74.125.195.113, ...\n",
            "Connecting to docs.google.com (docs.google.com)|74.125.195.138|:443... connected.\n",
            "HTTP request sent, awaiting response... 302 Moved Temporarily\n",
            "Location: https://doc-14-9o-docs.googleusercontent.com/docs/securesc/sof1lej3c0416ketp1pom9rj94he3o2c/ou1ng34442glfnoagiicl8rg2n2evbja/1591388325000/03778571169290499187/14669787140859786894Z/1mv4MdxnuX0v_tnJ-2lWnK_Cq7Nuu6dlQ?e=download [following]\n",
            "--2020-06-05 20:19:22--  https://doc-14-9o-docs.googleusercontent.com/docs/securesc/sof1lej3c0416ketp1pom9rj94he3o2c/ou1ng34442glfnoagiicl8rg2n2evbja/1591388325000/03778571169290499187/14669787140859786894Z/1mv4MdxnuX0v_tnJ-2lWnK_Cq7Nuu6dlQ?e=download\n",
            "Resolving doc-14-9o-docs.googleusercontent.com (doc-14-9o-docs.googleusercontent.com)... 74.125.142.132, 2607:f8b0:400e:c08::84\n",
            "Connecting to doc-14-9o-docs.googleusercontent.com (doc-14-9o-docs.googleusercontent.com)|74.125.142.132|:443... connected.\n",
            "HTTP request sent, awaiting response... 302 Found\n",
            "Location: https://docs.google.com/nonceSigner?nonce=7cv6ds9icc51a&continue=https://doc-14-9o-docs.googleusercontent.com/docs/securesc/sof1lej3c0416ketp1pom9rj94he3o2c/ou1ng34442glfnoagiicl8rg2n2evbja/1591388325000/03778571169290499187/14669787140859786894Z/1mv4MdxnuX0v_tnJ-2lWnK_Cq7Nuu6dlQ?e%3Ddownload&hash=44hi8fjtnubdk9sdfvspiqsmpr4pp4lv [following]\n",
            "--2020-06-05 20:19:22--  https://docs.google.com/nonceSigner?nonce=7cv6ds9icc51a&continue=https://doc-14-9o-docs.googleusercontent.com/docs/securesc/sof1lej3c0416ketp1pom9rj94he3o2c/ou1ng34442glfnoagiicl8rg2n2evbja/1591388325000/03778571169290499187/14669787140859786894Z/1mv4MdxnuX0v_tnJ-2lWnK_Cq7Nuu6dlQ?e%3Ddownload&hash=44hi8fjtnubdk9sdfvspiqsmpr4pp4lv\n",
            "Connecting to docs.google.com (docs.google.com)|74.125.195.138|:443... connected.\n",
            "HTTP request sent, awaiting response... 302 Found\n",
            "Location: https://doc-14-9o-docs.googleusercontent.com/docs/securesc/sof1lej3c0416ketp1pom9rj94he3o2c/ou1ng34442glfnoagiicl8rg2n2evbja/1591388325000/03778571169290499187/14669787140859786894Z/1mv4MdxnuX0v_tnJ-2lWnK_Cq7Nuu6dlQ?e=download&nonce=7cv6ds9icc51a&user=14669787140859786894Z&hash=ddv5ana5pjlrnaf9jogonmvv6n4q60r0 [following]\n",
            "--2020-06-05 20:19:22--  https://doc-14-9o-docs.googleusercontent.com/docs/securesc/sof1lej3c0416ketp1pom9rj94he3o2c/ou1ng34442glfnoagiicl8rg2n2evbja/1591388325000/03778571169290499187/14669787140859786894Z/1mv4MdxnuX0v_tnJ-2lWnK_Cq7Nuu6dlQ?e=download&nonce=7cv6ds9icc51a&user=14669787140859786894Z&hash=ddv5ana5pjlrnaf9jogonmvv6n4q60r0\n",
            "Connecting to doc-14-9o-docs.googleusercontent.com (doc-14-9o-docs.googleusercontent.com)|74.125.142.132|:443... connected.\n",
            "HTTP request sent, awaiting response... 200 OK\n",
            "Length: unspecified [application/octet-stream]\n",
            "Saving to: ‘vol_test.npy’\n",
            "\n",
            "vol_test.npy            [              <=>   ] 672.75M   160MB/s    in 4.3s    \n",
            "\n",
            "2020-06-05 20:19:26 (158 MB/s) - ‘vol_test.npy’ saved [705429632]\n",
            "\n"
          ],
          "name": "stdout"
        }
      ]
    },
    {
      "cell_type": "code",
      "metadata": {
        "id": "uTOmqPBdGsbk",
        "colab_type": "code",
        "colab": {
          "base_uri": "https://localhost:8080/",
          "height": 445
        },
        "outputId": "0f7b1b69-3bfd-4cd4-8a1f-aa1a341437bb"
      },
      "source": [
        "!wget --load-cookies /tmp/cookies.txt \"https://docs.google.com/uc?export=download&confirm=$(wget --quiet --save-cookies /tmp/cookies.txt --keep-session-cookies --no-check-certificate 'https://docs.google.com/uc?export=download&id=1k4la4ZevpBT8O38hO1DasivIE__V-tO2' -O- | sed -rn 's/.*confirm=([0-9A-Za-z_]+).*/\\1\\n/p')&id=1k4la4ZevpBT8O38hO1DasivIE__V-tO2\" -O points_in_sphere.txt && rm -rf /tmp/cookies.txt"
      ],
      "execution_count": 18,
      "outputs": [
        {
          "output_type": "stream",
          "text": [
            "--2020-06-05 20:19:33--  https://docs.google.com/uc?export=download&confirm=&id=1k4la4ZevpBT8O38hO1DasivIE__V-tO2\n",
            "Resolving docs.google.com (docs.google.com)... 74.125.195.100, 74.125.195.101, 74.125.195.139, ...\n",
            "Connecting to docs.google.com (docs.google.com)|74.125.195.100|:443... connected.\n",
            "HTTP request sent, awaiting response... 302 Moved Temporarily\n",
            "Location: https://doc-04-98-docs.googleusercontent.com/docs/securesc/p456a7umd1um0770pnt9v6k63mg8p7ce/mdhk26c54lc9tf876k98c96iidnu301r/1591388325000/03778571169290499187/14861424747329317024Z/1k4la4ZevpBT8O38hO1DasivIE__V-tO2?e=download [following]\n",
            "--2020-06-05 20:19:34--  https://doc-04-98-docs.googleusercontent.com/docs/securesc/p456a7umd1um0770pnt9v6k63mg8p7ce/mdhk26c54lc9tf876k98c96iidnu301r/1591388325000/03778571169290499187/14861424747329317024Z/1k4la4ZevpBT8O38hO1DasivIE__V-tO2?e=download\n",
            "Resolving doc-04-98-docs.googleusercontent.com (doc-04-98-docs.googleusercontent.com)... 74.125.142.132, 2607:f8b0:400e:c08::84\n",
            "Connecting to doc-04-98-docs.googleusercontent.com (doc-04-98-docs.googleusercontent.com)|74.125.142.132|:443... connected.\n",
            "HTTP request sent, awaiting response... 302 Found\n",
            "Location: https://docs.google.com/nonceSigner?nonce=lmqrte2pmsa7g&continue=https://doc-04-98-docs.googleusercontent.com/docs/securesc/p456a7umd1um0770pnt9v6k63mg8p7ce/mdhk26c54lc9tf876k98c96iidnu301r/1591388325000/03778571169290499187/14861424747329317024Z/1k4la4ZevpBT8O38hO1DasivIE__V-tO2?e%3Ddownload&hash=kug9e59hgh1ptvfi25sl159rjk0k6qn0 [following]\n",
            "--2020-06-05 20:19:34--  https://docs.google.com/nonceSigner?nonce=lmqrte2pmsa7g&continue=https://doc-04-98-docs.googleusercontent.com/docs/securesc/p456a7umd1um0770pnt9v6k63mg8p7ce/mdhk26c54lc9tf876k98c96iidnu301r/1591388325000/03778571169290499187/14861424747329317024Z/1k4la4ZevpBT8O38hO1DasivIE__V-tO2?e%3Ddownload&hash=kug9e59hgh1ptvfi25sl159rjk0k6qn0\n",
            "Connecting to docs.google.com (docs.google.com)|74.125.195.100|:443... connected.\n",
            "HTTP request sent, awaiting response... 302 Found\n",
            "Location: https://doc-04-98-docs.googleusercontent.com/docs/securesc/p456a7umd1um0770pnt9v6k63mg8p7ce/mdhk26c54lc9tf876k98c96iidnu301r/1591388325000/03778571169290499187/14861424747329317024Z/1k4la4ZevpBT8O38hO1DasivIE__V-tO2?e=download&nonce=lmqrte2pmsa7g&user=14861424747329317024Z&hash=4lgoms5n3463kt6oa7acsdumt4agebtd [following]\n",
            "--2020-06-05 20:19:34--  https://doc-04-98-docs.googleusercontent.com/docs/securesc/p456a7umd1um0770pnt9v6k63mg8p7ce/mdhk26c54lc9tf876k98c96iidnu301r/1591388325000/03778571169290499187/14861424747329317024Z/1k4la4ZevpBT8O38hO1DasivIE__V-tO2?e=download&nonce=lmqrte2pmsa7g&user=14861424747329317024Z&hash=4lgoms5n3463kt6oa7acsdumt4agebtd\n",
            "Connecting to doc-04-98-docs.googleusercontent.com (doc-04-98-docs.googleusercontent.com)|74.125.142.132|:443... connected.\n",
            "HTTP request sent, awaiting response... 200 OK\n",
            "Length: 571 [text/plain]\n",
            "Saving to: ‘points_in_sphere.txt’\n",
            "\n",
            "points_in_sphere.tx 100%[===================>]     571  --.-KB/s    in 0s      \n",
            "\n",
            "2020-06-05 20:19:34 (30.6 MB/s) - ‘points_in_sphere.txt’ saved [571/571]\n",
            "\n"
          ],
          "name": "stdout"
        }
      ]
    },
    {
      "cell_type": "markdown",
      "metadata": {
        "id": "f7aY99SiKCgM",
        "colab_type": "text"
      },
      "source": [
        "## Set the NBV-Net architecture"
      ]
    },
    {
      "cell_type": "code",
      "metadata": {
        "id": "VvI3Dr62KBLB",
        "colab_type": "code",
        "colab": {}
      },
      "source": [
        "import torch.nn as nn\n",
        "import torch.nn.functional as F\n",
        "\n",
        "class NBV_Net_Main(nn.Module):\n",
        "    \n",
        "    def __init__(self, dropout_prob):\n",
        "        \n",
        "        super(NBV_Net_Main, self).__init__()\n",
        "        \n",
        "        # Three 3D convolutional layers\n",
        "        self.conv1 = nn.Conv3d(1, 10, 3, stride=1, padding=1)\n",
        "        self.pool1 = nn.MaxPool3d(kernel_size=(2,2,2), stride = (2,2,2))\n",
        "        \n",
        "        self.conv2 = nn.Conv3d(10, 12, 3, stride=1, padding=1)\n",
        "        self.pool2 = nn.MaxPool3d(kernel_size=(2,2,2), stride = (2,2,2))\n",
        "        \n",
        "        self.conv3 = nn.Conv3d(12, 8, 3, stride=1, padding=1)\n",
        "        self.conv3_drop = nn.Dropout(dropout_prob)\n",
        "        self.pool3 = nn.MaxPool3d(kernel_size=(2,2,2), stride = (2,2,2))\n",
        "    \n",
        "    \n",
        "    def forward(self, x):\n",
        "        ## feedforward behavior of NBV-net\n",
        "        x = self.pool1(F.relu(self.conv1(x)))\n",
        "        \n",
        "        x = self.pool2(F.relu(self.conv2(x)))\n",
        "        \n",
        "        x = self.pool3(F.relu(self.conv3(x)))\n",
        "        \n",
        "        # Aplanar\n",
        "        x = x.view(x.size(0), -1)\n",
        "        \n",
        "        return x\n",
        "\n",
        "\n",
        "class NBV_Net_1FC(NBV_Net_Main):\n",
        "    def __init__(self, dropout_prob):\n",
        "        NBV_Net_Main.__init__(self, dropout_prob)\n",
        "        self.fc1 = nn.Linear(512, 14)\n",
        "    \n",
        "    def forward(self, x):\n",
        "        x = NBV_Net_Main.forward(self, x)\n",
        "        x = F.relu(self.fc1(x))\n",
        "        x = F.softmax(x, dim=1)\n",
        "        return x\n",
        "\n",
        "\n",
        "class NBV_Net_2FC(NBV_Net_Main):\n",
        "    def __init__(self, dropout_prob):\n",
        "        NBV_Net_Main.__init__(self, dropout_prob)\n",
        "        self.fc1 = nn.Linear(512, 300)\n",
        "        self.fc1_drop = nn.Dropout(dropout_prob)\n",
        "        self.fc2 = nn.Linear(300, 14)\n",
        "    \n",
        "    def forward(self, x):\n",
        "        x = NBV_Net_Main.forward(self, x)\n",
        "        x = F.relu(self.fc1(x))\n",
        "        x = self.fc1_drop(x)\n",
        "        x = F.relu(self.fc2(x))\n",
        "        x = F.softmax(x, dim=1)\n",
        "        return x\n",
        "\n",
        "\n",
        "class NBV_Net_3FC(NBV_Net_Main):\n",
        "    def __init__(self, dropout_prob):\n",
        "        NBV_Net_Main.__init__(self, dropout_prob)\n",
        "        self.fc1 = nn.Linear(512, 300)\n",
        "        self.fc1_drop = nn.Dropout(dropout_prob)\n",
        "        self.fc2 = nn.Linear(300, 100)\n",
        "        self.fc2_drop = nn.Dropout(dropout_prob)\n",
        "        self.fc3 = nn.Linear(100, 14)\n",
        "    \n",
        "    def forward(self, x):\n",
        "        x = NBV_Net_Main.forward(self, x)\n",
        "        x = F.relu(self.fc1(x))\n",
        "        x = self.fc1_drop(x)\n",
        "        x = F.relu(self.fc2(x))\n",
        "        x = self.fc2_drop(x)\n",
        "        x = F.relu(self.fc3(x))\n",
        "        x = F.softmax(x, dim=1)\n",
        "        return x\n",
        "\n",
        "class NBV_Net_4FC(NBV_Net_Main):\n",
        "    def __init__(self, dropout_prob):\n",
        "        NBV_Net_Main.__init__(self, dropout_prob)\n",
        "        self.fc1 = nn.Linear(512, 1200)\n",
        "        self.fc1_drop = nn.Dropout(dropout_prob)\n",
        "        self.fc2 = nn.Linear(1200, 500)\n",
        "        self.fc2_drop = nn.Dropout(dropout_prob)\n",
        "        self.fc3 = nn.Linear(500, 100)\n",
        "        self.fc3_drop = nn.Dropout(dropout_prob)\n",
        "        self.fc4 = nn.Linear(100, 14)\n",
        "    \n",
        "    def forward(self, x):\n",
        "        x = NBV_Net_Main.forward(self, x)\n",
        "        x = F.relu(self.fc1(x))\n",
        "        x = self.fc1_drop(x)\n",
        "        x = F.relu(self.fc2(x))\n",
        "        x = self.fc2_drop(x)\n",
        "        x = F.relu(self.fc3(x))\n",
        "        x = self.fc3_drop(x)\n",
        "        x = F.relu(self.fc4(x))\n",
        "        x = F.softmax(x, dim=1)\n",
        "        return x\n",
        "\n",
        "\n",
        "class NBV_Net_5FC(NBV_Net_Main):\n",
        "    def __init__(self, dropout_prob):\n",
        "        NBV_Net_Main.__init__(self, dropout_prob)\n",
        "        self.fc1 = nn.Linear(512, 1200)\n",
        "        self.fc1_drop = nn.Dropout(dropout_prob)\n",
        "        self.fc2 = nn.Linear(1200, 500)\n",
        "        self.fc2_drop = nn.Dropout(dropout_prob)\n",
        "        self.fc3 = nn.Linear(500, 100)\n",
        "        self.fc3_drop = nn.Dropout(dropout_prob)\n",
        "        self.fc4 = nn.Linear(100, 50)\n",
        "        self.fc4_drop = nn.Dropout(dropout_prob)\n",
        "        self.fc5 = nn.Linear(50, 14)\n",
        "    \n",
        "    def forward(self, x):\n",
        "        x = NBV_Net_Main.forward(self, x)\n",
        "        x = F.relu(self.fc1(x))\n",
        "        x = self.fc1_drop(x)\n",
        "        x = F.relu(self.fc2(x))\n",
        "        x = self.fc2_drop(x)\n",
        "        x = F.relu(self.fc3(x))\n",
        "        x = self.fc3_drop(x)\n",
        "        x = F.relu(self.fc4(x))\n",
        "        x = self.fc4_drop(x)\n",
        "        x = F.relu(self.fc5(x))\n",
        "        \n",
        "        x = F.softmax(x, dim=1)\n",
        "        return x"
      ],
      "execution_count": 0,
      "outputs": []
    },
    {
      "cell_type": "code",
      "metadata": {
        "id": "MH1iAkpTK_li",
        "colab_type": "code",
        "colab": {}
      },
      "source": [
        "class NBVClassificationDatasetFull(Dataset):\n",
        "    \"\"\"NBV dataset.\"\"\"\n",
        "    def __init__(self, grid_file, nbv_class_file, transform=None):\n",
        "        \"\"\"\n",
        "        Args:\n",
        "            poses_file (string): Path to the sensor poses (next-best-views).\n",
        "            root_dir (string): Directory with all the grids.\n",
        "            transform (callable, optional): Optional transform to be applied\n",
        "                on a sample.\n",
        "        \"\"\"\n",
        "        #self.root_dir = root_dir\n",
        "        self.grid_data = np.load(grid_file)\n",
        "        self.nbv_class_data = np.load(nbv_class_file)\n",
        "        self.transform = transform\n",
        "\n",
        "    def __len__(self):\n",
        "        return len(self.nbv_class_data)\n",
        "\n",
        "    def __getitem__(self, idx):\n",
        "        grid = self.grid_data[idx] \n",
        "        nbv_class = self.nbv_class_data[idx]\n",
        "        sample = {'grid': grid, 'nbv_class': nbv_class}\n",
        "\n",
        "        if self.transform:\n",
        "            sample = self.transform(sample)\n",
        "\n",
        "        return sample\n",
        "    \n",
        "    \n",
        "class To3DGrid(object):\n",
        "    \"\"\"Convert ndarrays in sample to Tensors.\"\"\"\n",
        "\n",
        "    def __call__(self, sample):\n",
        "        grid, nbv_class = sample['grid'], sample['nbv_class']\n",
        "\n",
        "        # swap color axis because\n",
        "        # numpy image: H i x W j x C k\n",
        "        # torch image: C k X H i X W j\n",
        "        grid = np.reshape(grid, (32,32,32))\n",
        "        return {'grid': grid,\n",
        "                'nbv_class': nbv_class}\n",
        "    \n",
        "\n",
        "class ToTensor(object):\n",
        "    \"\"\"Convert ndarrays in sample to Tensors.\"\"\"\n",
        "\n",
        "    def __call__(self, sample):\n",
        "        grid, nbv_class = sample['grid'], sample['nbv_class']\n",
        "\n",
        "        # swap color axis because\n",
        "        # numpy image: H i x W j x C k\n",
        "        # torch image: C k X H i X W j\n",
        "        #grid = grid.transpose((2, 0, 1))\n",
        "        return {'grid': torch.from_numpy(np.array([grid])),\n",
        "                'nbv_class': torch.tensor(nbv_class[0], dtype=torch.int64)}\n"
      ],
      "execution_count": 0,
      "outputs": []
    },
    {
      "cell_type": "markdown",
      "metadata": {
        "id": "Nt_B8CyVEmoG",
        "colab_type": "text"
      },
      "source": [
        "## Import packages"
      ]
    },
    {
      "cell_type": "code",
      "metadata": {
        "id": "LS8NMnav2JGf",
        "colab_type": "code",
        "colab": {}
      },
      "source": [
        "import numpy as np\n",
        "import csv\n",
        "\n",
        "import torch\n",
        "from torch.utils.data import Dataset, DataLoader\n",
        "from torchvision import transforms, utils\n",
        "\n",
        "import torch.nn as nn\n",
        "from torch import optim\n",
        "\n",
        "from torch.autograd import Variable"
      ],
      "execution_count": 0,
      "outputs": []
    },
    {
      "cell_type": "code",
      "metadata": {
        "id": "Qg0F-PTO2Ia4",
        "colab_type": "code",
        "colab": {}
      },
      "source": [
        "display_dataset = True\n",
        "display_fwd_pretraining = True\n",
        "reading_weights_file = 'paper_param.pth'\n",
        "saving_weights_file = 'weights.pth'\n",
        "epochs = 10\n",
        "batch_size = 1000\n",
        "learning_rate = 0.001\n",
        "dropout_prob= 0.3"
      ],
      "execution_count": 0,
      "outputs": []
    },
    {
      "cell_type": "markdown",
      "metadata": {
        "id": "65ccvep73WKL",
        "colab_type": "text"
      },
      "source": [
        "Check for GPU:"
      ]
    },
    {
      "cell_type": "code",
      "metadata": {
        "id": "02k75J8S2JRu",
        "colab_type": "code",
        "outputId": "19b27d42-3f56-4d4f-a298-fd773f942bc3",
        "colab": {
          "base_uri": "https://localhost:8080/",
          "height": 51
        }
      },
      "source": [
        "print('Torch', torch.__version__, 'CUDA', torch.version.cuda)\n",
        "device = torch.device(\"cuda:0\")\n",
        "print(device)"
      ],
      "execution_count": 21,
      "outputs": [
        {
          "output_type": "stream",
          "text": [
            "Torch 1.5.0+cu101 CUDA 10.1\n",
            "cuda:0\n"
          ],
          "name": "stdout"
        }
      ]
    },
    {
      "cell_type": "code",
      "metadata": {
        "id": "u8RB5od-3Za7",
        "colab_type": "code",
        "colab": {}
      },
      "source": [
        "params = {'epochs': epochs, \n",
        "          'batch_size': batch_size, \n",
        "          'learning_rate': learning_rate, \n",
        "          'dropout_prob': dropout_prob}\n",
        "\n",
        "with open(\"parameters.csv\", 'w') as csvfile:\n",
        "    fieldnames = params.keys()  #['first_name', 'last_name', 'Grade']\n",
        "    writer = csv.DictWriter(csvfile, fieldnames=fieldnames)\n",
        " \n",
        "    writer.writeheader()\n",
        "    writer.writerow(params)"
      ],
      "execution_count": 0,
      "outputs": []
    },
    {
      "cell_type": "markdown",
      "metadata": {
        "id": "Qevta4c87bjd",
        "colab_type": "text"
      },
      "source": [
        "## Dataset Preprocessing"
      ]
    },
    {
      "cell_type": "markdown",
      "metadata": {
        "id": "7UdSw4es7htx",
        "colab_type": "text"
      },
      "source": [
        "Read the pose that corresponds to a class:"
      ]
    },
    {
      "cell_type": "code",
      "metadata": {
        "id": "YZSL4d6z3oqm",
        "colab_type": "code",
        "colab": {}
      },
      "source": [
        "nbv_positions = np.genfromtxt('points_in_sphere.txt')"
      ],
      "execution_count": 0,
      "outputs": []
    },
    {
      "cell_type": "code",
      "metadata": {
        "id": "6w8xT50_8PuX",
        "colab_type": "code",
        "colab": {}
      },
      "source": [
        "def getPosition(nbv_class, nbv_positions):\n",
        "    return nbv_positions[nbv_class]"
      ],
      "execution_count": 0,
      "outputs": []
    },
    {
      "cell_type": "code",
      "metadata": {
        "id": "F5f_Nta58USE",
        "colab_type": "code",
        "colab": {}
      },
      "source": [
        "gridfile_training = 'vol_train.npy'\n",
        "nbv_class_file_training = 'lbl_train.npy'"
      ],
      "execution_count": 0,
      "outputs": []
    },
    {
      "cell_type": "code",
      "metadata": {
        "id": "8hDM4Ar48ddu",
        "colab_type": "code",
        "colab": {}
      },
      "source": [
        "training_dataset = NBVClassificationDatasetFull(grid_file=gridfile_training, \n",
        "                                    nbv_class_file=nbv_class_file_training,\n",
        "                                    transform=transforms.Compose([\n",
        "                                    # Reshapes the plain grid\n",
        "                                    To3DGrid(),\n",
        "                                    #converts to tensors\n",
        "                                    ToTensor()\n",
        "                                    ])\n",
        "                                    )"
      ],
      "execution_count": 0,
      "outputs": []
    },
    {
      "cell_type": "code",
      "metadata": {
        "id": "0aUMuVf48f8B",
        "colab_type": "code",
        "colab": {}
      },
      "source": [
        "gridfile_test = 'vol_test.npy'\n",
        "nbv_class_file_test = 'lbl_test.npy'"
      ],
      "execution_count": 0,
      "outputs": []
    },
    {
      "cell_type": "code",
      "metadata": {
        "id": "GeZM4iaw8i8V",
        "colab_type": "code",
        "colab": {}
      },
      "source": [
        "test_dataset = NBVClassificationDatasetFull(grid_file=gridfile_test, \n",
        "                                    nbv_class_file=nbv_class_file_test,\n",
        "                                    transform=transforms.Compose([\n",
        "                                    To3DGrid(),\n",
        "                                    ToTensor()\n",
        "                                    ])\n",
        "                                    )"
      ],
      "execution_count": 0,
      "outputs": []
    },
    {
      "cell_type": "code",
      "metadata": {
        "id": "3EQi50Zi-2KE",
        "colab_type": "code",
        "outputId": "b669e2c1-8672-4117-d7b1-a597477a3b3d",
        "colab": {
          "base_uri": "https://localhost:8080/",
          "height": 51
        }
      },
      "source": [
        "print('Training dataset lenght: ' + str(len(training_dataset)))\n",
        "print('Test dataset lenght: ' + str(len(test_dataset)))"
      ],
      "execution_count": 50,
      "outputs": [
        {
          "output_type": "stream",
          "text": [
            "Training dataset lenght: 10764\n",
            "Test dataset lenght: 2691\n"
          ],
          "name": "stdout"
        }
      ]
    },
    {
      "cell_type": "markdown",
      "metadata": {
        "id": "5N2zNApj7ajd",
        "colab_type": "text"
      },
      "source": [
        "Load training data in batches:"
      ]
    },
    {
      "cell_type": "code",
      "metadata": {
        "id": "7YSFHFoU6hOY",
        "colab_type": "code",
        "colab": {}
      },
      "source": [
        "train_loader = DataLoader(training_dataset, \n",
        "                          batch_size=batch_size,\n",
        "                          shuffle=True, \n",
        "                          num_workers=0)\n",
        "\n",
        "test_loader = DataLoader(test_dataset, \n",
        "                          batch_size=batch_size,\n",
        "                          shuffle=True, \n",
        "                          num_workers=0)"
      ],
      "execution_count": 0,
      "outputs": []
    },
    {
      "cell_type": "markdown",
      "metadata": {
        "id": "xhMUhz51_Kh-",
        "colab_type": "text"
      },
      "source": [
        "## NBV-Net"
      ]
    },
    {
      "cell_type": "code",
      "metadata": {
        "id": "6X4B8j6J_G1k",
        "colab_type": "code",
        "outputId": "73e1593e-c5cc-4f08-af8d-13fb221cd701",
        "colab": {
          "base_uri": "https://localhost:8080/",
          "height": 255
        }
      },
      "source": [
        "net = NBV_Net_3FC(dropout_prob)\n",
        "net.to(device)\n",
        "print(net)"
      ],
      "execution_count": 43,
      "outputs": [
        {
          "output_type": "stream",
          "text": [
            "NBV_Net_3FC(\n",
            "  (conv1): Conv3d(1, 10, kernel_size=(3, 3, 3), stride=(1, 1, 1), padding=(1, 1, 1))\n",
            "  (pool1): MaxPool3d(kernel_size=(2, 2, 2), stride=(2, 2, 2), padding=0, dilation=1, ceil_mode=False)\n",
            "  (conv2): Conv3d(10, 12, kernel_size=(3, 3, 3), stride=(1, 1, 1), padding=(1, 1, 1))\n",
            "  (pool2): MaxPool3d(kernel_size=(2, 2, 2), stride=(2, 2, 2), padding=0, dilation=1, ceil_mode=False)\n",
            "  (conv3): Conv3d(12, 8, kernel_size=(3, 3, 3), stride=(1, 1, 1), padding=(1, 1, 1))\n",
            "  (conv3_drop): Dropout(p=0.3, inplace=False)\n",
            "  (pool3): MaxPool3d(kernel_size=(2, 2, 2), stride=(2, 2, 2), padding=0, dilation=1, ceil_mode=False)\n",
            "  (fc1): Linear(in_features=512, out_features=300, bias=True)\n",
            "  (fc1_drop): Dropout(p=0.3, inplace=False)\n",
            "  (fc2): Linear(in_features=300, out_features=100, bias=True)\n",
            "  (fc2_drop): Dropout(p=0.3, inplace=False)\n",
            "  (fc3): Linear(in_features=100, out_features=14, bias=True)\n",
            ")\n"
          ],
          "name": "stdout"
        }
      ]
    },
    {
      "cell_type": "markdown",
      "metadata": {
        "id": "4GsH_jvMB8wG",
        "colab_type": "text"
      },
      "source": [
        "Weights initialization"
      ]
    },
    {
      "cell_type": "code",
      "metadata": {
        "id": "K40wxgIo_SDV",
        "colab_type": "code",
        "outputId": "a94513fd-96a8-4afd-be46-9637685a43b1",
        "colab": {
          "base_uri": "https://localhost:8080/",
          "height": 255
        }
      },
      "source": [
        "def weights_init(m):\n",
        "    classname = m.__class__.__name__\n",
        "    if classname.find('conv') != -1:\n",
        "        m.weight.data.normal_(0.0, 0.1)\n",
        "        #m.weight.data.xavier_normal_()\n",
        "        m.bias.data.fill_(0)\n",
        "        \n",
        "net.apply(weights_init)"
      ],
      "execution_count": 0,
      "outputs": [
        {
          "output_type": "execute_result",
          "data": {
            "text/plain": [
              "NBV_Net(\n",
              "  (conv1): Conv3d(1, 10, kernel_size=(3, 3, 3), stride=(1, 1, 1), padding=(1, 1, 1))\n",
              "  (pool1): MaxPool3d(kernel_size=(2, 2, 2), stride=(2, 2, 2), padding=0, dilation=1, ceil_mode=False)\n",
              "  (conv2): Conv3d(10, 12, kernel_size=(3, 3, 3), stride=(1, 1, 1), padding=(1, 1, 1))\n",
              "  (pool2): MaxPool3d(kernel_size=(2, 2, 2), stride=(2, 2, 2), padding=0, dilation=1, ceil_mode=False)\n",
              "  (conv3): Conv3d(12, 8, kernel_size=(3, 3, 3), stride=(1, 1, 1), padding=(1, 1, 1))\n",
              "  (conv3_drop): Dropout(p=0.3, inplace=False)\n",
              "  (pool3): MaxPool3d(kernel_size=(2, 2, 2), stride=(2, 2, 2), padding=0, dilation=1, ceil_mode=False)\n",
              "  (fc1): Linear(in_features=512, out_features=300, bias=True)\n",
              "  (fc1_drop): Dropout(p=0.3, inplace=False)\n",
              "  (fc2): Linear(in_features=300, out_features=100, bias=True)\n",
              "  (fc2_drop): Dropout(p=0.3, inplace=False)\n",
              "  (fc3): Linear(in_features=100, out_features=14, bias=True)\n",
              ")"
            ]
          },
          "metadata": {
            "tags": []
          },
          "execution_count": 14
        }
      ]
    },
    {
      "cell_type": "markdown",
      "metadata": {
        "id": "WinGA0V5ClAi",
        "colab_type": "text"
      },
      "source": [
        "## Training"
      ]
    },
    {
      "cell_type": "code",
      "metadata": {
        "id": "09SXalCVChsd",
        "colab_type": "code",
        "colab": {}
      },
      "source": [
        "criterion = nn.CrossEntropyLoss()\n",
        "optimizer = optim.Adam(net.parameters(), lr = learning_rate)"
      ],
      "execution_count": 0,
      "outputs": []
    },
    {
      "cell_type": "code",
      "metadata": {
        "id": "YsKAs1FSCvKK",
        "colab_type": "code",
        "colab": {}
      },
      "source": [
        "def test(model, testloader, criterion):\n",
        "    test_loss = 0\n",
        "    accuracy = 0\n",
        "    for sample in testloader:\n",
        "        \n",
        "        # get sample data: images and ground truth keypoints\n",
        "        grids = sample['grid']\n",
        "        nbvs = sample['nbv_class']\n",
        "        \n",
        "        # convert images to FloatTensors\n",
        "        grids = grids.type(torch.FloatTensor)\n",
        "        \n",
        "        # wrap them in a torch Variable\n",
        "        grids = Variable(grids)    \n",
        "        grids = grids.to(device)\n",
        "        \n",
        "        # wrap them in a torch Variable\n",
        "        nbvs = Variable(nbvs) \n",
        "        nbvs = nbvs.to(device)\n",
        "\n",
        "        output = model.forward(grids)\n",
        "        test_loss += criterion(output, nbvs).item()\n",
        "\n",
        "        # for log.  ps = torch.exp(output)\n",
        "        equality = (nbvs.data == output.max(dim=1)[1])\n",
        "        accuracy += equality.type(torch.FloatTensor).mean()\n",
        "    \n",
        "    return test_loss, accuracy"
      ],
      "execution_count": 0,
      "outputs": []
    },
    {
      "cell_type": "markdown",
      "metadata": {
        "id": "_eV590WnC4b5",
        "colab_type": "text"
      },
      "source": [
        "Training loop:"
      ]
    },
    {
      "cell_type": "code",
      "metadata": {
        "id": "nKQM27khCx9p",
        "colab_type": "code",
        "outputId": "d7a4f651-91cd-4245-ab81-a13fbd9c9f2d",
        "colab": {
          "base_uri": "https://localhost:8080/",
          "height": 494
        }
      },
      "source": [
        "running_loss = 0\n",
        "save_after = 100\n",
        "\n",
        "history_epoch = []\n",
        "history_train_loss = []\n",
        "history_test_loss = []\n",
        "history_train_accuracy = []\n",
        "history_test_accuracy = []\n",
        "\n",
        "import time\n",
        "tic = time.process_time()\n",
        "\n",
        "for e in range(epochs):\n",
        "    net.train()\n",
        "    \n",
        "    for i, sample in enumerate(train_loader):        \n",
        "        # get sample data: images and ground truth keypoints\n",
        "        grids = sample['grid']\n",
        "        nbvs = sample['nbv_class']\n",
        "\n",
        "        # convert grids to FloatTensors\n",
        "        grids = grids.type(torch.FloatTensor)\n",
        "        \n",
        "        # wrap them in a torch Variable\n",
        "        grids = Variable(grids)    \n",
        "        grids = grids.to(device)\n",
        "        \n",
        "        # wrap them in a torch Variable\n",
        "        nbvs = Variable(nbvs) \n",
        "        nbvs = nbvs.to(device)\n",
        "        \n",
        "        optimizer.zero_grad()\n",
        "\n",
        "        # forward pass to get net output\n",
        "        output = net(grids)\n",
        "        \n",
        "        #ot = output.cpu()\n",
        "        #print(ot)    \n",
        "        \n",
        "        loss = criterion(output, nbvs)\n",
        "        # Backpropagation\n",
        "        loss.backward()\n",
        "        optimizer.step()\n",
        "        \n",
        "        running_loss += loss.item()\n",
        "     \n",
        "    net.eval()\n",
        "            \n",
        "    with torch.no_grad():\n",
        "        train_loss, train_accuracy = test(net, train_loader, criterion)\n",
        "        test_loss, test_accuracy = test(net, test_loader, criterion)\n",
        "        \n",
        "        train_loss, train_accuracy = train_loss, train_accuracy.cpu().numpy()\n",
        "        test_loss, test_accuracy = test_loss, test_accuracy.cpu().numpy()\n",
        "        \n",
        "        train_accuracy = train_accuracy / len(train_loader)\n",
        "        test_accuracy = test_accuracy / len(test_loader)\n",
        "        \n",
        "        print(\"Epoch: {}/{}.. \".format(e+1, epochs),\n",
        "              \"Training Loss: {:.3f}.. \".format(train_loss),\n",
        "              \"Test Loss: {:.3f}.. \".format(test_loss),\n",
        "              \"Train Accuracy: {:.3f}\".format(test_accuracy),\n",
        "              \"Test Accuracy: {:.3f}\".format(test_accuracy))\n",
        "    \n",
        "    history_epoch.append(e)\n",
        "    history_train_loss.append(train_loss)\n",
        "    history_test_loss.append(test_loss)\n",
        "    history_train_accuracy.append(train_accuracy)\n",
        "    history_test_accuracy.append(test_accuracy)\n",
        "    \n",
        "    running_loss = 0\n",
        "    \n",
        "    if(e % save_after == 0):\n",
        "        np.save('train_loss'+str(e), history_train_loss)\n",
        "        np.save('test_loss'+str(e), history_test_loss)\n",
        "        np.save('train_accuracy'+str(e), history_train_accuracy)\n",
        "        np.save('test_accuracy'+str(e), history_test_accuracy)\n",
        "        torch.save(net.state_dict(), 'weights'+str(e)+'.pth')\n",
        "    \n",
        "    # Make sure training is back on\n",
        "    net.train()\n",
        "\n",
        "toc = time.process_time()\n",
        "print(toc - tic)"
      ],
      "execution_count": 53,
      "outputs": [
        {
          "output_type": "stream",
          "text": [
            "Epoch: 1/10..  Training Loss: 28.671..  Test Loss: 7.822..  Train Accuracy: 0.146 Test Accuracy: 0.146\n",
            "Epoch: 2/10..  Training Loss: 28.498..  Test Loss: 7.778..  Train Accuracy: 0.137 Test Accuracy: 0.137\n",
            "Epoch: 3/10..  Training Loss: 28.408..  Test Loss: 7.772..  Train Accuracy: 0.137 Test Accuracy: 0.137\n",
            "Epoch: 4/10..  Training Loss: 28.306..  Test Loss: 7.740..  Train Accuracy: 0.155 Test Accuracy: 0.155\n",
            "Epoch: 5/10..  Training Loss: 28.140..  Test Loss: 7.707..  Train Accuracy: 0.170 Test Accuracy: 0.170\n",
            "Epoch: 6/10..  Training Loss: 27.911..  Test Loss: 7.655..  Train Accuracy: 0.195 Test Accuracy: 0.195\n",
            "Epoch: 7/10..  Training Loss: 27.913..  Test Loss: 7.646..  Train Accuracy: 0.201 Test Accuracy: 0.201\n",
            "Epoch: 8/10..  Training Loss: 27.814..  Test Loss: 7.631..  Train Accuracy: 0.206 Test Accuracy: 0.206\n"
          ],
          "name": "stdout"
        },
        {
          "output_type": "error",
          "ename": "KeyboardInterrupt",
          "evalue": "ignored",
          "traceback": [
            "\u001b[0;31m---------------------------------------------------------------------------\u001b[0m",
            "\u001b[0;31mKeyboardInterrupt\u001b[0m                         Traceback (most recent call last)",
            "\u001b[0;32m<ipython-input-53-02126b4c8203>\u001b[0m in \u001b[0;36m<module>\u001b[0;34m()\u001b[0m\n\u001b[1;32m     48\u001b[0m \u001b[0;34m\u001b[0m\u001b[0m\n\u001b[1;32m     49\u001b[0m     \u001b[0;32mwith\u001b[0m \u001b[0mtorch\u001b[0m\u001b[0;34m.\u001b[0m\u001b[0mno_grad\u001b[0m\u001b[0;34m(\u001b[0m\u001b[0;34m)\u001b[0m\u001b[0;34m:\u001b[0m\u001b[0;34m\u001b[0m\u001b[0;34m\u001b[0m\u001b[0m\n\u001b[0;32m---> 50\u001b[0;31m         \u001b[0mtrain_loss\u001b[0m\u001b[0;34m,\u001b[0m \u001b[0mtrain_accuracy\u001b[0m \u001b[0;34m=\u001b[0m \u001b[0mtest\u001b[0m\u001b[0;34m(\u001b[0m\u001b[0mnet\u001b[0m\u001b[0;34m,\u001b[0m \u001b[0mtrain_loader\u001b[0m\u001b[0;34m,\u001b[0m \u001b[0mcriterion\u001b[0m\u001b[0;34m)\u001b[0m\u001b[0;34m\u001b[0m\u001b[0;34m\u001b[0m\u001b[0m\n\u001b[0m\u001b[1;32m     51\u001b[0m         \u001b[0mtest_loss\u001b[0m\u001b[0;34m,\u001b[0m \u001b[0mtest_accuracy\u001b[0m \u001b[0;34m=\u001b[0m \u001b[0mtest\u001b[0m\u001b[0;34m(\u001b[0m\u001b[0mnet\u001b[0m\u001b[0;34m,\u001b[0m \u001b[0mtest_loader\u001b[0m\u001b[0;34m,\u001b[0m \u001b[0mcriterion\u001b[0m\u001b[0;34m)\u001b[0m\u001b[0;34m\u001b[0m\u001b[0;34m\u001b[0m\u001b[0m\n\u001b[1;32m     52\u001b[0m \u001b[0;34m\u001b[0m\u001b[0m\n",
            "\u001b[0;32m<ipython-input-45-9d96a1e13357>\u001b[0m in \u001b[0;36mtest\u001b[0;34m(model, testloader, criterion)\u001b[0m\n\u001b[1;32m      2\u001b[0m     \u001b[0mtest_loss\u001b[0m \u001b[0;34m=\u001b[0m \u001b[0;36m0\u001b[0m\u001b[0;34m\u001b[0m\u001b[0;34m\u001b[0m\u001b[0m\n\u001b[1;32m      3\u001b[0m     \u001b[0maccuracy\u001b[0m \u001b[0;34m=\u001b[0m \u001b[0;36m0\u001b[0m\u001b[0;34m\u001b[0m\u001b[0;34m\u001b[0m\u001b[0m\n\u001b[0;32m----> 4\u001b[0;31m     \u001b[0;32mfor\u001b[0m \u001b[0msample\u001b[0m \u001b[0;32min\u001b[0m \u001b[0mtestloader\u001b[0m\u001b[0;34m:\u001b[0m\u001b[0;34m\u001b[0m\u001b[0;34m\u001b[0m\u001b[0m\n\u001b[0m\u001b[1;32m      5\u001b[0m \u001b[0;34m\u001b[0m\u001b[0m\n\u001b[1;32m      6\u001b[0m         \u001b[0;31m# get sample data: images and ground truth keypoints\u001b[0m\u001b[0;34m\u001b[0m\u001b[0;34m\u001b[0m\u001b[0;34m\u001b[0m\u001b[0m\n",
            "\u001b[0;32m/usr/local/lib/python3.6/dist-packages/torch/utils/data/dataloader.py\u001b[0m in \u001b[0;36m__next__\u001b[0;34m(self)\u001b[0m\n\u001b[1;32m    343\u001b[0m \u001b[0;34m\u001b[0m\u001b[0m\n\u001b[1;32m    344\u001b[0m     \u001b[0;32mdef\u001b[0m \u001b[0m__next__\u001b[0m\u001b[0;34m(\u001b[0m\u001b[0mself\u001b[0m\u001b[0;34m)\u001b[0m\u001b[0;34m:\u001b[0m\u001b[0;34m\u001b[0m\u001b[0;34m\u001b[0m\u001b[0m\n\u001b[0;32m--> 345\u001b[0;31m         \u001b[0mdata\u001b[0m \u001b[0;34m=\u001b[0m \u001b[0mself\u001b[0m\u001b[0;34m.\u001b[0m\u001b[0m_next_data\u001b[0m\u001b[0;34m(\u001b[0m\u001b[0;34m)\u001b[0m\u001b[0;34m\u001b[0m\u001b[0;34m\u001b[0m\u001b[0m\n\u001b[0m\u001b[1;32m    346\u001b[0m         \u001b[0mself\u001b[0m\u001b[0;34m.\u001b[0m\u001b[0m_num_yielded\u001b[0m \u001b[0;34m+=\u001b[0m \u001b[0;36m1\u001b[0m\u001b[0;34m\u001b[0m\u001b[0;34m\u001b[0m\u001b[0m\n\u001b[1;32m    347\u001b[0m         \u001b[0;32mif\u001b[0m \u001b[0mself\u001b[0m\u001b[0;34m.\u001b[0m\u001b[0m_dataset_kind\u001b[0m \u001b[0;34m==\u001b[0m \u001b[0m_DatasetKind\u001b[0m\u001b[0;34m.\u001b[0m\u001b[0mIterable\u001b[0m \u001b[0;32mand\u001b[0m\u001b[0;31m \u001b[0m\u001b[0;31m\\\u001b[0m\u001b[0;34m\u001b[0m\u001b[0;34m\u001b[0m\u001b[0m\n",
            "\u001b[0;32m/usr/local/lib/python3.6/dist-packages/torch/utils/data/dataloader.py\u001b[0m in \u001b[0;36m_next_data\u001b[0;34m(self)\u001b[0m\n\u001b[1;32m    383\u001b[0m     \u001b[0;32mdef\u001b[0m \u001b[0m_next_data\u001b[0m\u001b[0;34m(\u001b[0m\u001b[0mself\u001b[0m\u001b[0;34m)\u001b[0m\u001b[0;34m:\u001b[0m\u001b[0;34m\u001b[0m\u001b[0;34m\u001b[0m\u001b[0m\n\u001b[1;32m    384\u001b[0m         \u001b[0mindex\u001b[0m \u001b[0;34m=\u001b[0m \u001b[0mself\u001b[0m\u001b[0;34m.\u001b[0m\u001b[0m_next_index\u001b[0m\u001b[0;34m(\u001b[0m\u001b[0;34m)\u001b[0m  \u001b[0;31m# may raise StopIteration\u001b[0m\u001b[0;34m\u001b[0m\u001b[0;34m\u001b[0m\u001b[0m\n\u001b[0;32m--> 385\u001b[0;31m         \u001b[0mdata\u001b[0m \u001b[0;34m=\u001b[0m \u001b[0mself\u001b[0m\u001b[0;34m.\u001b[0m\u001b[0m_dataset_fetcher\u001b[0m\u001b[0;34m.\u001b[0m\u001b[0mfetch\u001b[0m\u001b[0;34m(\u001b[0m\u001b[0mindex\u001b[0m\u001b[0;34m)\u001b[0m  \u001b[0;31m# may raise StopIteration\u001b[0m\u001b[0;34m\u001b[0m\u001b[0;34m\u001b[0m\u001b[0m\n\u001b[0m\u001b[1;32m    386\u001b[0m         \u001b[0;32mif\u001b[0m \u001b[0mself\u001b[0m\u001b[0;34m.\u001b[0m\u001b[0m_pin_memory\u001b[0m\u001b[0;34m:\u001b[0m\u001b[0;34m\u001b[0m\u001b[0;34m\u001b[0m\u001b[0m\n\u001b[1;32m    387\u001b[0m             \u001b[0mdata\u001b[0m \u001b[0;34m=\u001b[0m \u001b[0m_utils\u001b[0m\u001b[0;34m.\u001b[0m\u001b[0mpin_memory\u001b[0m\u001b[0;34m.\u001b[0m\u001b[0mpin_memory\u001b[0m\u001b[0;34m(\u001b[0m\u001b[0mdata\u001b[0m\u001b[0;34m)\u001b[0m\u001b[0;34m\u001b[0m\u001b[0;34m\u001b[0m\u001b[0m\n",
            "\u001b[0;32m/usr/local/lib/python3.6/dist-packages/torch/utils/data/_utils/fetch.py\u001b[0m in \u001b[0;36mfetch\u001b[0;34m(self, possibly_batched_index)\u001b[0m\n\u001b[1;32m     42\u001b[0m     \u001b[0;32mdef\u001b[0m \u001b[0mfetch\u001b[0m\u001b[0;34m(\u001b[0m\u001b[0mself\u001b[0m\u001b[0;34m,\u001b[0m \u001b[0mpossibly_batched_index\u001b[0m\u001b[0;34m)\u001b[0m\u001b[0;34m:\u001b[0m\u001b[0;34m\u001b[0m\u001b[0;34m\u001b[0m\u001b[0m\n\u001b[1;32m     43\u001b[0m         \u001b[0;32mif\u001b[0m \u001b[0mself\u001b[0m\u001b[0;34m.\u001b[0m\u001b[0mauto_collation\u001b[0m\u001b[0;34m:\u001b[0m\u001b[0;34m\u001b[0m\u001b[0;34m\u001b[0m\u001b[0m\n\u001b[0;32m---> 44\u001b[0;31m             \u001b[0mdata\u001b[0m \u001b[0;34m=\u001b[0m \u001b[0;34m[\u001b[0m\u001b[0mself\u001b[0m\u001b[0;34m.\u001b[0m\u001b[0mdataset\u001b[0m\u001b[0;34m[\u001b[0m\u001b[0midx\u001b[0m\u001b[0;34m]\u001b[0m \u001b[0;32mfor\u001b[0m \u001b[0midx\u001b[0m \u001b[0;32min\u001b[0m \u001b[0mpossibly_batched_index\u001b[0m\u001b[0;34m]\u001b[0m\u001b[0;34m\u001b[0m\u001b[0;34m\u001b[0m\u001b[0m\n\u001b[0m\u001b[1;32m     45\u001b[0m         \u001b[0;32melse\u001b[0m\u001b[0;34m:\u001b[0m\u001b[0;34m\u001b[0m\u001b[0;34m\u001b[0m\u001b[0m\n\u001b[1;32m     46\u001b[0m             \u001b[0mdata\u001b[0m \u001b[0;34m=\u001b[0m \u001b[0mself\u001b[0m\u001b[0;34m.\u001b[0m\u001b[0mdataset\u001b[0m\u001b[0;34m[\u001b[0m\u001b[0mpossibly_batched_index\u001b[0m\u001b[0;34m]\u001b[0m\u001b[0;34m\u001b[0m\u001b[0;34m\u001b[0m\u001b[0m\n",
            "\u001b[0;32m/usr/local/lib/python3.6/dist-packages/torch/utils/data/_utils/fetch.py\u001b[0m in \u001b[0;36m<listcomp>\u001b[0;34m(.0)\u001b[0m\n\u001b[1;32m     42\u001b[0m     \u001b[0;32mdef\u001b[0m \u001b[0mfetch\u001b[0m\u001b[0;34m(\u001b[0m\u001b[0mself\u001b[0m\u001b[0;34m,\u001b[0m \u001b[0mpossibly_batched_index\u001b[0m\u001b[0;34m)\u001b[0m\u001b[0;34m:\u001b[0m\u001b[0;34m\u001b[0m\u001b[0;34m\u001b[0m\u001b[0m\n\u001b[1;32m     43\u001b[0m         \u001b[0;32mif\u001b[0m \u001b[0mself\u001b[0m\u001b[0;34m.\u001b[0m\u001b[0mauto_collation\u001b[0m\u001b[0;34m:\u001b[0m\u001b[0;34m\u001b[0m\u001b[0;34m\u001b[0m\u001b[0m\n\u001b[0;32m---> 44\u001b[0;31m             \u001b[0mdata\u001b[0m \u001b[0;34m=\u001b[0m \u001b[0;34m[\u001b[0m\u001b[0mself\u001b[0m\u001b[0;34m.\u001b[0m\u001b[0mdataset\u001b[0m\u001b[0;34m[\u001b[0m\u001b[0midx\u001b[0m\u001b[0;34m]\u001b[0m \u001b[0;32mfor\u001b[0m \u001b[0midx\u001b[0m \u001b[0;32min\u001b[0m \u001b[0mpossibly_batched_index\u001b[0m\u001b[0;34m]\u001b[0m\u001b[0;34m\u001b[0m\u001b[0;34m\u001b[0m\u001b[0m\n\u001b[0m\u001b[1;32m     45\u001b[0m         \u001b[0;32melse\u001b[0m\u001b[0;34m:\u001b[0m\u001b[0;34m\u001b[0m\u001b[0;34m\u001b[0m\u001b[0m\n\u001b[1;32m     46\u001b[0m             \u001b[0mdata\u001b[0m \u001b[0;34m=\u001b[0m \u001b[0mself\u001b[0m\u001b[0;34m.\u001b[0m\u001b[0mdataset\u001b[0m\u001b[0;34m[\u001b[0m\u001b[0mpossibly_batched_index\u001b[0m\u001b[0;34m]\u001b[0m\u001b[0;34m\u001b[0m\u001b[0;34m\u001b[0m\u001b[0m\n",
            "\u001b[0;32m<ipython-input-26-1f748964b33e>\u001b[0m in \u001b[0;36m__getitem__\u001b[0;34m(self, idx)\u001b[0m\n\u001b[1;32m     23\u001b[0m \u001b[0;34m\u001b[0m\u001b[0m\n\u001b[1;32m     24\u001b[0m         \u001b[0;32mif\u001b[0m \u001b[0mself\u001b[0m\u001b[0;34m.\u001b[0m\u001b[0mtransform\u001b[0m\u001b[0;34m:\u001b[0m\u001b[0;34m\u001b[0m\u001b[0;34m\u001b[0m\u001b[0m\n\u001b[0;32m---> 25\u001b[0;31m             \u001b[0msample\u001b[0m \u001b[0;34m=\u001b[0m \u001b[0mself\u001b[0m\u001b[0;34m.\u001b[0m\u001b[0mtransform\u001b[0m\u001b[0;34m(\u001b[0m\u001b[0msample\u001b[0m\u001b[0;34m)\u001b[0m\u001b[0;34m\u001b[0m\u001b[0;34m\u001b[0m\u001b[0m\n\u001b[0m\u001b[1;32m     26\u001b[0m \u001b[0;34m\u001b[0m\u001b[0m\n\u001b[1;32m     27\u001b[0m         \u001b[0;32mreturn\u001b[0m \u001b[0msample\u001b[0m\u001b[0;34m\u001b[0m\u001b[0;34m\u001b[0m\u001b[0m\n",
            "\u001b[0;32m/usr/local/lib/python3.6/dist-packages/torchvision/transforms/transforms.py\u001b[0m in \u001b[0;36m__call__\u001b[0;34m(self, img)\u001b[0m\n\u001b[1;32m     59\u001b[0m     \u001b[0;32mdef\u001b[0m \u001b[0m__call__\u001b[0m\u001b[0;34m(\u001b[0m\u001b[0mself\u001b[0m\u001b[0;34m,\u001b[0m \u001b[0mimg\u001b[0m\u001b[0;34m)\u001b[0m\u001b[0;34m:\u001b[0m\u001b[0;34m\u001b[0m\u001b[0;34m\u001b[0m\u001b[0m\n\u001b[1;32m     60\u001b[0m         \u001b[0;32mfor\u001b[0m \u001b[0mt\u001b[0m \u001b[0;32min\u001b[0m \u001b[0mself\u001b[0m\u001b[0;34m.\u001b[0m\u001b[0mtransforms\u001b[0m\u001b[0;34m:\u001b[0m\u001b[0;34m\u001b[0m\u001b[0;34m\u001b[0m\u001b[0m\n\u001b[0;32m---> 61\u001b[0;31m             \u001b[0mimg\u001b[0m \u001b[0;34m=\u001b[0m \u001b[0mt\u001b[0m\u001b[0;34m(\u001b[0m\u001b[0mimg\u001b[0m\u001b[0;34m)\u001b[0m\u001b[0;34m\u001b[0m\u001b[0;34m\u001b[0m\u001b[0m\n\u001b[0m\u001b[1;32m     62\u001b[0m         \u001b[0;32mreturn\u001b[0m \u001b[0mimg\u001b[0m\u001b[0;34m\u001b[0m\u001b[0;34m\u001b[0m\u001b[0m\n\u001b[1;32m     63\u001b[0m \u001b[0;34m\u001b[0m\u001b[0m\n",
            "\u001b[0;32m<ipython-input-26-1f748964b33e>\u001b[0m in \u001b[0;36m__call__\u001b[0;34m(self, sample)\u001b[0m\n\u001b[1;32m     52\u001b[0m         \u001b[0;31m# torch image: C k X H i X W j\u001b[0m\u001b[0;34m\u001b[0m\u001b[0;34m\u001b[0m\u001b[0;34m\u001b[0m\u001b[0m\n\u001b[1;32m     53\u001b[0m         \u001b[0;31m#grid = grid.transpose((2, 0, 1))\u001b[0m\u001b[0;34m\u001b[0m\u001b[0;34m\u001b[0m\u001b[0;34m\u001b[0m\u001b[0m\n\u001b[0;32m---> 54\u001b[0;31m         return {'grid': torch.from_numpy(np.array([grid])),\n\u001b[0m\u001b[1;32m     55\u001b[0m                 'nbv_class': torch.tensor(nbv_class[0], dtype=torch.int64)}\n",
            "\u001b[0;31mKeyboardInterrupt\u001b[0m: "
          ]
        }
      ]
    },
    {
      "cell_type": "code",
      "metadata": {
        "id": "axSBJM-DXnnq",
        "colab_type": "code",
        "colab": {}
      },
      "source": [
        "from google.colab import files"
      ],
      "execution_count": 0,
      "outputs": []
    },
    {
      "cell_type": "code",
      "metadata": {
        "id": "KsLFdKjrC7fu",
        "colab_type": "code",
        "outputId": "30108237-be4c-4ab0-eddc-766e361ba529",
        "colab": {
          "base_uri": "https://localhost:8080/",
          "height": 851
        }
      },
      "source": [
        "import matplotlib.pyplot as plt\n",
        "\n",
        "plt.plot(history_epoch, history_train_loss)\n",
        "plt.xlabel('Epoch')\n",
        "plt.ylabel('Loss')\n",
        "plt.title('Train Loss')\n",
        "plt.savefig('train_loss.png', dpi = 200)\n",
        "files.download(\"train_loss.png\")\n",
        "plt.show()\n",
        "\n",
        "plt.plot(history_epoch, history_train_accuracy)\n",
        "plt.xlabel('Epoch')\n",
        "plt.ylabel('Accuracy')\n",
        "plt.title('Train set accuracy')\n",
        "plt.savefig('train_accuracy_xavier.png', dpi = 200)\n",
        "files.download(\"train_accuracy_xavier.png\")\n",
        "plt.show()\n",
        "\n",
        "plt.plot(history_epoch, history_validation_accuracy)\n",
        "plt.xlabel('Epoch')\n",
        "plt.ylabel('Accuracy')\n",
        "plt.title('Validation set accuracy')\n",
        "plt.savefig('validation_accuracy_xavier.png', dpi = 200)\n",
        "files.download(\"validation_accuracy_xavier.png\")\n",
        "plt.show()\n",
        "\n"
      ],
      "execution_count": 0,
      "outputs": [
        {
          "output_type": "display_data",
          "data": {
            "image/png": "[encoded data removed]",
            "text/plain": [
              "<Figure size 432x288 with 1 Axes>"
            ]
          },
          "metadata": {
            "tags": [],
            "needs_background": "light"
          }
        },
        {
          "output_type": "display_data",
          "data": {
            "image/png": "[encoded data removed]",
            "text/plain": [
              "<Figure size 432x288 with 1 Axes>"
            ]
          },
          "metadata": {
            "tags": [],
            "needs_background": "light"
          }
        },
        {
          "output_type": "display_data",
          "data": {
            "image/png": "[encoded data removed]",
            "text/plain": [
              "<Figure size 432x288 with 1 Axes>"
            ]
          },
          "metadata": {
            "tags": [],
            "needs_background": "light"
          }
        }
      ]
    }
  ]
}