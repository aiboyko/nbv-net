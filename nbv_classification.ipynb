{
 "cells": [
  {
   "cell_type": "markdown",
   "metadata": {},
   "source": [
    "# NBV Classification\n",
    "\n",
    "> Mendoza, M., Vasquez-Gomez, J. I., Taud, H., Sucar, L. E., & Reta, C. (2019). Supervised Learning of the Next-Best-View for 3D Object Reconstruction. arXiv preprint arXiv:1905.05833."
   ]
  },
  {
   "cell_type": "markdown",
   "metadata": {},
   "source": [
    "Notebook configuration"
   ]
  },
  {
   "cell_type": "code",
   "execution_count": 1,
   "metadata": {},
   "outputs": [],
   "source": [
    "display_dataset = True\n",
    "display_fwd_pretraining = True\n",
    "load_weights = False\n",
    "reading_weights_file = 'weights/paper_param.pth'\n",
    "saving_weights_file = 'log/current_param.pth'\n",
    "epochs = 40\n",
    "batch_size = 256\n",
    "learning_rate = 0.001\n",
    "dropout_prob = 0.3"
   ]
  },
  {
   "cell_type": "code",
   "execution_count": 2,
   "metadata": {},
   "outputs": [],
   "source": [
    "import numpy as np\n",
    "import csv\n",
    "import cnbv\n",
    "\n",
    "import torch\n",
    "from torch.utils.data import Dataset, DataLoader\n",
    "from torchvision import transforms\n",
    "from torch import optim\n",
    "from torch.autograd import Variable\n",
    "\n",
    "#from tqdm import tqdm\n",
    "from cnbv import validation"
   ]
  },
  {
   "cell_type": "markdown",
   "metadata": {},
   "source": [
    "Check for GPU"
   ]
  },
  {
   "cell_type": "code",
   "execution_count": 3,
   "metadata": {},
   "outputs": [
    {
     "name": "stdout",
     "output_type": "stream",
     "text": [
      "cuda:0\n"
     ]
    }
   ],
   "source": [
    "device = torch.device(\"cuda:0\" if torch.cuda.is_available() else \"cpu\")\n",
    "# Assume that we are on a CUDA machine, then this should print a CUDA device:\n",
    "print(device)"
   ]
  },
  {
   "cell_type": "code",
   "execution_count": 4,
   "metadata": {},
   "outputs": [],
   "source": [
    "# params = {'epochs': epochs, 'batch_size': batch_size, 'learning_rate': learning_rate, 'dropout_prob': dropout_prob}\n",
    "\n",
    "# with open(\"log/parameters.csv\", 'w') as csvfile:\n",
    "#     fieldnames = params.keys()\n",
    "#     writer = csv.DictWriter(csvfile, fieldnames=fieldnames)\n",
    "#     writer.writeheader()\n",
    "#     writer.writerow(params)"
   ]
  },
  {
   "cell_type": "markdown",
   "metadata": {},
   "source": [
    "## Dataset Preprocessing"
   ]
  },
  {
   "cell_type": "markdown",
   "metadata": {},
   "source": [
    "Read the pose that corresponds to a class"
   ]
  },
  {
   "cell_type": "code",
   "execution_count": 5,
   "metadata": {},
   "outputs": [],
   "source": [
    "path_to_pose = 'data/points_in_sphere.txt'\n",
    "nbv_positions = np.genfromtxt(path_to_pose)"
   ]
  },
  {
   "cell_type": "markdown",
   "metadata": {},
   "source": [
    "This function converts a class to its corresponding pose"
   ]
  },
  {
   "cell_type": "code",
   "execution_count": 6,
   "metadata": {},
   "outputs": [],
   "source": [
    "# def getPosition(nbv_class, nbv_positions):\n",
    "#     return nbv_positions[nbv_class]"
   ]
  },
  {
   "cell_type": "code",
   "execution_count": 7,
   "metadata": {},
   "outputs": [],
   "source": [
    "# n_views = len(nbv_positions)\n",
    "# print(\"Number of sensor poses:\", n_views)"
   ]
  },
  {
   "cell_type": "markdown",
   "metadata": {},
   "source": [
    "Split dataset into training and validation subsets"
   ]
  },
  {
   "cell_type": "code",
   "execution_count": 8,
   "metadata": {},
   "outputs": [],
   "source": [
    "# path_to_dataset = '/Users/dmitriismirnov/Desktop/NBV/nbv-dataset/training'\n",
    "path_to_dataset = 'dataset'"
   ]
  },
  {
   "cell_type": "code",
   "execution_count": 9,
   "metadata": {},
   "outputs": [],
   "source": [
    "# dataset = cnbv.Dataset_NBVC_Folder(dataset_dir=path_to_dataset, device=device)"
   ]
  },
  {
   "cell_type": "code",
   "execution_count": 10,
   "metadata": {},
   "outputs": [],
   "source": [
    "# dataset = cnbv.Dataset_NBVC_modified(dataset_dir = path_to_dataset,\n",
    "#                                    transform = transforms.Compose([cnbv.To3DGrid(), cnbv.ToTensor()]))"
   ]
  },
  {
   "cell_type": "code",
   "execution_count": 11,
   "metadata": {},
   "outputs": [],
   "source": [
    "# train_dataset, test_dataset = dataset.generate_train_test()\n"
   ]
  },
  {
   "cell_type": "code",
   "execution_count": 12,
   "metadata": {},
   "outputs": [],
   "source": [
    "# path_to_vol_train"
   ]
  },
  {
   "cell_type": "code",
   "execution_count": 13,
   "metadata": {},
   "outputs": [],
   "source": [
    "import os\n",
    "\n",
    "# Train\n",
    "path_to_vol_train = os.path.join(path_to_dataset, 'vol_train.npy')\n",
    "path_to_lbl_train = os.path.join(path_to_dataset, 'lbl_train.npy')\n",
    "\n",
    "train_dataset = cnbv.Dataset_NBVC_Full_numpy(vol_file=path_to_vol_train,\n",
    "                                            lbl_file=path_to_lbl_train,\n",
    "                                            transform=transforms.Compose([cnbv.To3DGrid(), cnbv.ToTensor()])\n",
    "                                            )\n",
    "\n",
    "train_dataloader = DataLoader(dataset=train_dataset, shuffle=True, batch_size=batch_size, drop_last=True)"
   ]
  },
  {
   "cell_type": "code",
   "execution_count": null,
   "metadata": {},
   "outputs": [],
   "source": []
  },
  {
   "cell_type": "code",
   "execution_count": 14,
   "metadata": {},
   "outputs": [],
   "source": [
    "# Test\n",
    "path_to_vol_test = os.path.join(path_to_dataset, 'vol_test.npy')\n",
    "path_to_lbl_test = os.path.join(path_to_dataset, 'lbl_test.npy')\n",
    "\n",
    "test_dataset = cnbv.Dataset_NBVC_Full_numpy(vol_file = path_to_vol_test,\n",
    "                                     lbl_file = path_to_lbl_test,\n",
    "                                     transform=transforms.Compose([cnbv.To3DGrid(), cnbv.ToTensor()])\n",
    "                                     )\n",
    "\n",
    "#test_dataloader = DataLoader(dataset=test_dataset, shuffle=True, batch_size=batch_size, drop_last=True)"
   ]
  },
  {
   "cell_type": "markdown",
   "metadata": {},
   "source": [
    "# Training"
   ]
  },
  {
   "cell_type": "code",
   "execution_count": 15,
   "metadata": {},
   "outputs": [],
   "source": [
    "model = cnbv.net.NBV_Net_3FC(dropout_prob)\n",
    "model = model.to(device)"
   ]
  },
  {
   "cell_type": "code",
   "execution_count": 16,
   "metadata": {},
   "outputs": [],
   "source": [
    "criterion = torch.nn.CrossEntropyLoss()\n",
    "optimizer = optim.Adam(model.parameters(), lr=learning_rate)"
   ]
  },
  {
   "cell_type": "code",
   "execution_count": 17,
   "metadata": {},
   "outputs": [
    {
     "ename": "NameError",
     "evalue": "name 'nbvs' is not defined",
     "output_type": "error",
     "traceback": [
      "\u001b[0;31m---------------------------------------------------------------------------\u001b[0m",
      "\u001b[0;31mNameError\u001b[0m                                 Traceback (most recent call last)",
      "\u001b[0;32m<ipython-input-17-16b8db3a916d>\u001b[0m in \u001b[0;36m<module>\u001b[0;34m\u001b[0m\n\u001b[1;32m      3\u001b[0m       \u001b[0mtrain_dataloader\u001b[0m\u001b[0;34m,\u001b[0m\u001b[0;34m\u001b[0m\u001b[0;34m\u001b[0m\u001b[0m\n\u001b[1;32m      4\u001b[0m       \u001b[0mcriterion\u001b[0m\u001b[0;34m=\u001b[0m\u001b[0mcriterion\u001b[0m\u001b[0;34m,\u001b[0m\u001b[0;34m\u001b[0m\u001b[0;34m\u001b[0m\u001b[0m\n\u001b[0;32m----> 5\u001b[0;31m       epochs=5)\n\u001b[0m",
      "\u001b[0;32m~/Documents/nbv-net/cnbv/learning.py\u001b[0m in \u001b[0;36mtrain\u001b[0;34m(model, optimizer, train_dataloader, criterion, epochs, name_of_experiment, log_dir, test_dataloader)\u001b[0m\n\u001b[1;32m     72\u001b[0m         \u001b[0mmodel\u001b[0m\u001b[0;34m.\u001b[0m\u001b[0meval\u001b[0m\u001b[0;34m(\u001b[0m\u001b[0;34m)\u001b[0m\u001b[0;34m\u001b[0m\u001b[0;34m\u001b[0m\u001b[0m\n\u001b[1;32m     73\u001b[0m         \u001b[0;32mwith\u001b[0m \u001b[0mtorch\u001b[0m\u001b[0;34m.\u001b[0m\u001b[0mno_grad\u001b[0m\u001b[0;34m(\u001b[0m\u001b[0;34m)\u001b[0m\u001b[0;34m:\u001b[0m\u001b[0;34m\u001b[0m\u001b[0;34m\u001b[0m\u001b[0m\n\u001b[0;32m---> 74\u001b[0;31m             \u001b[0mtrain_loss\u001b[0m\u001b[0;34m,\u001b[0m \u001b[0mtrain_accuracy\u001b[0m \u001b[0;34m=\u001b[0m \u001b[0mtest\u001b[0m\u001b[0;34m(\u001b[0m\u001b[0mmodel\u001b[0m\u001b[0;34m,\u001b[0m \u001b[0mtrain_dataloader\u001b[0m\u001b[0;34m,\u001b[0m \u001b[0mcriterion\u001b[0m\u001b[0;34m)\u001b[0m\u001b[0;34m\u001b[0m\u001b[0;34m\u001b[0m\u001b[0m\n\u001b[0m\u001b[1;32m     75\u001b[0m             \u001b[0mtrain_accuracy\u001b[0m \u001b[0;34m=\u001b[0m \u001b[0mtrain_accuracy\u001b[0m \u001b[0;34m/\u001b[0m \u001b[0mlen\u001b[0m\u001b[0;34m(\u001b[0m\u001b[0mtrain_dataloader\u001b[0m\u001b[0;34m)\u001b[0m\u001b[0;34m\u001b[0m\u001b[0;34m\u001b[0m\u001b[0m\n\u001b[1;32m     76\u001b[0m \u001b[0;34m\u001b[0m\u001b[0m\n",
      "\u001b[0;32m~/Documents/nbv-net/cnbv/learning.py\u001b[0m in \u001b[0;36mtest\u001b[0;34m(model, testloader, criterion)\u001b[0m\n\u001b[1;32m     39\u001b[0m \u001b[0;34m\u001b[0m\u001b[0m\n\u001b[1;32m     40\u001b[0m         \u001b[0;31m# for log.  ps = torch.exp(output)\u001b[0m\u001b[0;34m\u001b[0m\u001b[0;34m\u001b[0m\u001b[0;34m\u001b[0m\u001b[0m\n\u001b[0;32m---> 41\u001b[0;31m         \u001b[0mcorrect_labels\u001b[0m \u001b[0;34m=\u001b[0m \u001b[0;34m(\u001b[0m\u001b[0mnbvs\u001b[0m\u001b[0;34m.\u001b[0m\u001b[0mdata\u001b[0m \u001b[0;34m==\u001b[0m \u001b[0moutput\u001b[0m\u001b[0;34m.\u001b[0m\u001b[0mmax\u001b[0m\u001b[0;34m(\u001b[0m\u001b[0mdim\u001b[0m\u001b[0;34m=\u001b[0m\u001b[0;36m1\u001b[0m\u001b[0;34m)\u001b[0m\u001b[0;34m[\u001b[0m\u001b[0;36m1\u001b[0m\u001b[0;34m]\u001b[0m\u001b[0;34m)\u001b[0m\u001b[0;34m\u001b[0m\u001b[0;34m\u001b[0m\u001b[0m\n\u001b[0m\u001b[1;32m     42\u001b[0m         \u001b[0maccuracy\u001b[0m \u001b[0;34m+=\u001b[0m \u001b[0mcorrect_labels\u001b[0m\u001b[0;34m.\u001b[0m\u001b[0mtype\u001b[0m\u001b[0;34m(\u001b[0m\u001b[0mtorch\u001b[0m\u001b[0;34m.\u001b[0m\u001b[0mFloatTensor\u001b[0m\u001b[0;34m)\u001b[0m\u001b[0;34m.\u001b[0m\u001b[0mmean\u001b[0m\u001b[0;34m(\u001b[0m\u001b[0;34m)\u001b[0m\u001b[0;34m\u001b[0m\u001b[0;34m\u001b[0m\u001b[0m\n\u001b[1;32m     43\u001b[0m \u001b[0;34m\u001b[0m\u001b[0m\n",
      "\u001b[0;31mNameError\u001b[0m: name 'nbvs' is not defined"
     ]
    }
   ],
   "source": [
    "cnbv.train(model, \n",
    "      optimizer, \n",
    "      train_dataloader, \n",
    "      criterion=criterion,\n",
    "      epochs=5)"
   ]
  },
  {
   "cell_type": "code",
   "execution_count": null,
   "metadata": {},
   "outputs": [],
   "source": [
    "# #this is hardcoded for 2-file splits\n",
    "# train_loader = train_dataloader\n",
    "\n",
    "# running_loss = 0\n",
    "# save_after = 100\n",
    "\n",
    "# history_epoch = []\n",
    "# history_train_loss = []\n",
    "# history_validation_loss = []\n",
    "# history_train_accuracy = []\n",
    "# history_validation_accuracy = []\n",
    "\n",
    "# import time\n",
    "# for e in range(epochs):\n",
    "#     tic = time.time()\n",
    "# #     model.train()\n",
    "    \n",
    "#     for i, sample in enumerate(train_loader):        \n",
    "#         # get sample data: images and ground truth keypoints\n",
    "#         X, y = sample['grid'].to(device), sample['nbv_class'].to(device)        \n",
    "#         optimizer.zero_grad()\n",
    "#         output = model(X)\n",
    "#         loss = criterion(output, y)\n",
    "#         loss.backward()\n",
    "#         optimizer.step()\n",
    "        \n",
    "#         running_loss += loss.item()\n",
    "#     print(running_loss)\n",
    "\n",
    "#     toc = time.time()\n",
    "    \n",
    "#     print('time per epoch = ', toc - tic)"
   ]
  },
  {
   "cell_type": "markdown",
   "metadata": {},
   "source": [
    "## Experiments with fully casting the dataset on the device"
   ]
  },
  {
   "cell_type": "code",
   "execution_count": null,
   "metadata": {},
   "outputs": [],
   "source": [
    "megads_train = torch.utils.data.TensorDataset(\n",
    "    torch.Tensor(train_dataset.grid_data.reshape(-1,1,32,32,32)).to(device),\n",
    "    torch.tensor(train_dataset.nbv_class_data, dtype=torch.long).to(device))"
   ]
  },
  {
   "cell_type": "code",
   "execution_count": null,
   "metadata": {},
   "outputs": [],
   "source": [
    "train_dataloader_fullcast = DataLoader(dataset=megads_train, shuffle=True, batch_size=batch_size, drop_last=True)"
   ]
  },
  {
   "cell_type": "code",
   "execution_count": null,
   "metadata": {},
   "outputs": [],
   "source": [
    "del train_dataset\n",
    "#del train_dataloader"
   ]
  },
  {
   "cell_type": "code",
   "execution_count": null,
   "metadata": {},
   "outputs": [],
   "source": [
    "megads_test = torch.utils.data.TensorDataset(\n",
    "    torch.Tensor(test_dataset.grid_data.reshape(-1,1,32,32,32)).to(device),\n",
    "    torch.tensor(test_dataset.nbv_class_data, dtype=torch.long).to(device))"
   ]
  },
  {
   "cell_type": "code",
   "execution_count": null,
   "metadata": {},
   "outputs": [],
   "source": [
    "test_dataloader_fullcast = DataLoader(dataset=megads_test, shuffle=True, batch_size=batch_size, drop_last=True)"
   ]
  },
  {
   "cell_type": "code",
   "execution_count": null,
   "metadata": {},
   "outputs": [],
   "source": [
    "del test_dataset\n",
    "#del test_dataloader"
   ]
  },
  {
   "cell_type": "code",
   "execution_count": null,
   "metadata": {},
   "outputs": [],
   "source": []
  },
  {
   "cell_type": "code",
   "execution_count": null,
   "metadata": {},
   "outputs": [],
   "source": []
  },
  {
   "cell_type": "code",
   "execution_count": null,
   "metadata": {},
   "outputs": [],
   "source": [
    "enumerate(['cxsc','kschk','tag'])"
   ]
  },
  {
   "cell_type": "code",
   "execution_count": null,
   "metadata": {},
   "outputs": [],
   "source": [
    "\"\"\"\n",
    "#this is hardcoded for 2-file splits\n",
    "running_loss = 0\n",
    "save_after = 100\n",
    "\n",
    "history_epoch = []\n",
    "history_train_loss = []\n",
    "history_validation_loss = []\n",
    "history_train_accuracy = []\n",
    "history_validation_accuracy = []\n",
    "\n",
    "import time\n",
    "for e in range(epochs):\n",
    "    tic = time.time()\n",
    "    for i, (X, y) in enumerate(train_dataloader2):        \n",
    "        optimizer.zero_grad()\n",
    "        output = model(X)\n",
    "        loss = criterion(output, y.flatten())\n",
    "        loss.backward()\n",
    "        optimizer.step()\n",
    "        running_loss += loss.item()\n",
    "    \n",
    "    toc = time.time()\n",
    "    print('time per epoch = ', toc - tic)\n",
    "\"\"\""
   ]
  },
  {
   "cell_type": "code",
   "execution_count": null,
   "metadata": {},
   "outputs": [],
   "source": [
    "# learning for our glorious tensor dataset"
   ]
  },
  {
   "cell_type": "code",
   "execution_count": null,
   "metadata": {},
   "outputs": [],
   "source": [
    "# cnbv.validation(net, test_dataloader, criterion, 'cpu')"
   ]
  },
  {
   "cell_type": "code",
   "execution_count": null,
   "metadata": {},
   "outputs": [],
   "source": [
    "# RuntimeError: Expected 5-dimensional input for 5-dimensional weight [10, 1, 3, 3, 3], but got 4-dimensional input of size [16, 32, 32, 32] instead"
   ]
  },
  {
   "cell_type": "code",
   "execution_count": null,
   "metadata": {},
   "outputs": [],
   "source": [
    "import matplotlib.pyplot as plt\n",
    "plt.plot(history_train_loss)"
   ]
  },
  {
   "cell_type": "code",
   "execution_count": null,
   "metadata": {},
   "outputs": [],
   "source": [
    "plt.plot(history_epoch, history_train_loss)\n",
    "plt.xlabel('Epoch')\n",
    "plt.ylabel('Loss')\n",
    "plt.title('Train Loss')\n",
    "# plt.savefig('log/train_loss.png')\n",
    "plt.show()\n",
    "\n",
    "plt.plot(history_epoch, history_train_accuracy)\n",
    "plt.xlabel('Epoch')\n",
    "plt.ylabel('Accuracy')\n",
    "plt.title('Train set accuracy')\n",
    "# plt.savefig('log/train_accuracy.png')\n",
    "plt.show()\n",
    "\n",
    "plt.plot(history_epoch, history_validation_accuracy)\n",
    "plt.xlabel('Epoch')\n",
    "plt.ylabel('Accuracy')\n",
    "plt.title('Validation set accuracy')\n",
    "# plt.savefig('log/validation_accuracy.png')\n",
    "plt.show()"
   ]
  },
  {
   "cell_type": "markdown",
   "metadata": {},
   "source": [
    "# Test network"
   ]
  },
  {
   "cell_type": "code",
   "execution_count": null,
   "metadata": {},
   "outputs": [],
   "source": [
    "# returns: test images, test predicted keypoints, test ground truth keypoints\n",
    "test_X, test_outputs, gt_y = net_sample_output()\n",
    "visualize_output(test_X, test_outputs, np.squeeze(gt_y))"
   ]
  },
  {
   "cell_type": "code",
   "execution_count": null,
   "metadata": {},
   "outputs": [],
   "source": [
    "# save parameters\n",
    "torch.save(net.state_dict(), saving_weights_file)"
   ]
  },
  {
   "cell_type": "code",
   "execution_count": null,
   "metadata": {},
   "outputs": [],
   "source": [
    "# save metrics\n",
    "\n",
    "np.save('log/train_loss', history_train_loss)\n",
    "np.save('log/validation_loss', history_validation_loss)\n",
    "np.save('log/train_accuracy', history_train_accuracy)\n",
    "np.save('log/validation_accuracy', history_validation_accuracy)"
   ]
  },
  {
   "cell_type": "raw",
   "metadata": {},
   "source": []
  }
 ],
 "metadata": {
  "kernelspec": {
   "display_name": "Python 3",
   "language": "python",
   "name": "python3"
  },
  "language_info": {
   "codemirror_mode": {
    "name": "ipython",
    "version": 3
   },
   "file_extension": ".py",
   "mimetype": "text/x-python",
   "name": "python",
   "nbconvert_exporter": "python",
   "pygments_lexer": "ipython3",
   "version": "3.7.6"
  }
 },
 "nbformat": 4,
 "nbformat_minor": 4
}
